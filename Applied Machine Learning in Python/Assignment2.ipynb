{
 "cells": [
  {
   "cell_type": "markdown",
   "metadata": {},
   "source": [
    "# Assignment 2\n",
    "In this assignment you'll explore the relationship between model complexity and generalization performance, by adjusting key parameters of various supervised learning models. Part 1 of this assignment will look at regression and Part 2 will look at classification."
   ]
  },
  {
   "cell_type": "markdown",
   "metadata": {},
   "source": [
    "## Part 1 - Regression"
   ]
  },
  {
   "cell_type": "code",
   "execution_count": 1,
   "metadata": {},
   "outputs": [],
   "source": [
    "%matplotlib inline"
   ]
  },
  {
   "cell_type": "code",
   "execution_count": 2,
   "metadata": {},
   "outputs": [],
   "source": [
    "from sklearn.linear_model import LinearRegression\n",
    "from sklearn.preprocessing import PolynomialFeatures\n",
    "from sklearn.linear_model import LinearRegression\n",
    "from sklearn.metrics import r2_score\n",
    "from sklearn.linear_model import Lasso\n",
    "from sklearn.tree import DecisionTreeClassifier\n",
    "from sklearn.model_selection import validation_curve\n",
    "from sklearn.svm import SVC"
   ]
  },
  {
   "cell_type": "code",
   "execution_count": 3,
   "metadata": {},
   "outputs": [
    {
     "data": {
      "image/png": "[encoded data removed]",
      "text/plain": [
       "<Figure size 640x480 with 1 Axes>"
      ]
     },
     "metadata": {},
     "output_type": "display_data"
    }
   ],
   "source": [
    "import numpy as np\n",
    "import pandas as pd\n",
    "import matplotlib.pyplot as plt\n",
    "from sklearn.model_selection import train_test_split\n",
    "\n",
    "\n",
    "np.random.seed(0)\n",
    "n = 15\n",
    "x = np.linspace(0,10,n) + np.random.randn(n)/5\n",
    "y = np.sin(x)+x/6 + np.random.randn(n)/10\n",
    "\n",
    "\n",
    "X_train, X_test, y_train, y_test = train_test_split(x, y, random_state=0)\n",
    "\n",
    "def intro():\n",
    "    #%matplotlib notebook\n",
    "    %matplotlib inline\n",
    "\n",
    "    plt.figure()\n",
    "    plt.scatter(X_train, y_train, label=\"training data\")\n",
    "    plt.scatter(X_test, y_test, label=\"test data\")\n",
    "    plt.legend(loc=4)\n",
    "\n",
    "\n",
    "intro()"
   ]
  },
  {
   "cell_type": "markdown",
   "metadata": {},
   "source": [
    "## Question 1\n",
    "Write a function that fits a polynomial LinearRegression model on the training data `X_train` for degrees 1, 3, 6, and 9. (Use `PolynomialFeatures` in sklearn.preprocessing to create the polynomial features and then fit a linear regression model) For each model, find 100 predicted values over the interval x = 0 to 10 (e.g. `np.linspace(0,10,100)`) and store this in a numpy array. The first row of this array should correspond to the output from the model trained on degree 1, the second row degree 3, the third row degree 6, and the fourth row degree 9.\n",
    "\n",
    "*This function should return a numpy array with shape `(4, 100)`*"
   ]
  },
  {
   "cell_type": "code",
   "execution_count": 4,
   "metadata": {},
   "outputs": [
    {
     "data": {
      "text/plain": [
       "array([[ 2.53040195e-01,  2.69201547e-01,  2.85362899e-01,\n",
       "         3.01524251e-01,  3.17685603e-01,  3.33846955e-01,\n",
       "         3.50008306e-01,  3.66169658e-01,  3.82331010e-01,\n",
       "         3.98492362e-01,  4.14653714e-01,  4.30815066e-01,\n",
       "         4.46976417e-01,  4.63137769e-01,  4.79299121e-01,\n",
       "         4.95460473e-01,  5.11621825e-01,  5.27783177e-01,\n",
       "         5.43944529e-01,  5.60105880e-01,  5.76267232e-01,\n",
       "         5.92428584e-01,  6.08589936e-01,  6.24751288e-01,\n",
       "         6.40912640e-01,  6.57073992e-01,  6.73235343e-01,\n",
       "         6.89396695e-01,  7.05558047e-01,  7.21719399e-01,\n",
       "         7.37880751e-01,  7.54042103e-01,  7.70203454e-01,\n",
       "         7.86364806e-01,  8.02526158e-01,  8.18687510e-01,\n",
       "         8.34848862e-01,  8.51010214e-01,  8.67171566e-01,\n",
       "         8.83332917e-01,  8.99494269e-01,  9.15655621e-01,\n",
       "         9.31816973e-01,  9.47978325e-01,  9.64139677e-01,\n",
       "         9.80301028e-01,  9.96462380e-01,  1.01262373e+00,\n",
       "         1.02878508e+00,  1.04494644e+00,  1.06110779e+00,\n",
       "         1.07726914e+00,  1.09343049e+00,  1.10959184e+00,\n",
       "         1.12575320e+00,  1.14191455e+00,  1.15807590e+00,\n",
       "         1.17423725e+00,  1.19039860e+00,  1.20655995e+00,\n",
       "         1.22272131e+00,  1.23888266e+00,  1.25504401e+00,\n",
       "         1.27120536e+00,  1.28736671e+00,  1.30352807e+00,\n",
       "         1.31968942e+00,  1.33585077e+00,  1.35201212e+00,\n",
       "         1.36817347e+00,  1.38433482e+00,  1.40049618e+00,\n",
       "         1.41665753e+00,  1.43281888e+00,  1.44898023e+00,\n",
       "         1.46514158e+00,  1.48130294e+00,  1.49746429e+00,\n",
       "         1.51362564e+00,  1.52978699e+00,  1.54594834e+00,\n",
       "         1.56210969e+00,  1.57827105e+00,  1.59443240e+00,\n",
       "         1.61059375e+00,  1.62675510e+00,  1.64291645e+00,\n",
       "         1.65907781e+00,  1.67523916e+00,  1.69140051e+00,\n",
       "         1.70756186e+00,  1.72372321e+00,  1.73988457e+00,\n",
       "         1.75604592e+00,  1.77220727e+00,  1.78836862e+00,\n",
       "         1.80452997e+00,  1.82069132e+00,  1.83685268e+00,\n",
       "         1.85301403e+00],\n",
       "       [ 1.22989539e+00,  1.15143628e+00,  1.07722393e+00,\n",
       "         1.00717881e+00,  9.41221419e-01,  8.79272234e-01,\n",
       "         8.21251741e-01,  7.67080426e-01,  7.16678772e-01,\n",
       "         6.69967266e-01,  6.26866391e-01,  5.87296632e-01,\n",
       "         5.51178474e-01,  5.18432402e-01,  4.88978901e-01,\n",
       "         4.62738455e-01,  4.39631549e-01,  4.19578668e-01,\n",
       "         4.02500297e-01,  3.88316920e-01,  3.76949022e-01,\n",
       "         3.68317088e-01,  3.62341603e-01,  3.58943051e-01,\n",
       "         3.58041918e-01,  3.59558687e-01,  3.63413845e-01,\n",
       "         3.69527874e-01,  3.77821261e-01,  3.88214491e-01,\n",
       "         4.00628046e-01,  4.14982414e-01,  4.31198078e-01,\n",
       "         4.49195522e-01,  4.68895233e-01,  4.90217694e-01,\n",
       "         5.13083391e-01,  5.37412808e-01,  5.63126429e-01,\n",
       "         5.90144741e-01,  6.18388226e-01,  6.47777371e-01,\n",
       "         6.78232660e-01,  7.09674578e-01,  7.42023609e-01,\n",
       "         7.75200238e-01,  8.09124950e-01,  8.43718230e-01,\n",
       "         8.78900563e-01,  9.14592432e-01,  9.50714324e-01,\n",
       "         9.87186723e-01,  1.02393011e+00,  1.06086498e+00,\n",
       "         1.09791181e+00,  1.13499108e+00,  1.17202328e+00,\n",
       "         1.20892890e+00,  1.24562842e+00,  1.28204233e+00,\n",
       "         1.31809110e+00,  1.35369523e+00,  1.38877520e+00,\n",
       "         1.42325149e+00,  1.45704459e+00,  1.49007498e+00,\n",
       "         1.52226316e+00,  1.55352959e+00,  1.58379478e+00,\n",
       "         1.61297919e+00,  1.64100332e+00,  1.66778766e+00,\n",
       "         1.69325268e+00,  1.71731887e+00,  1.73990672e+00,\n",
       "         1.76093671e+00,  1.78032933e+00,  1.79800506e+00,\n",
       "         1.81388438e+00,  1.82788778e+00,  1.83993575e+00,\n",
       "         1.84994877e+00,  1.85784732e+00,  1.86355189e+00,\n",
       "         1.86698296e+00,  1.86806103e+00,  1.86670656e+00,\n",
       "         1.86284006e+00,  1.85638200e+00,  1.84725286e+00,\n",
       "         1.83537314e+00,  1.82066332e+00,  1.80304388e+00,\n",
       "         1.78243530e+00,  1.75875808e+00,  1.73193269e+00,\n",
       "         1.70187963e+00,  1.66851936e+00,  1.63177240e+00,\n",
       "         1.59155920e+00],\n",
       "       [-1.99554310e-01, -3.95192729e-03,  1.79851752e-01,\n",
       "         3.51005136e-01,  5.08831706e-01,  6.52819233e-01,\n",
       "         7.82609240e-01,  8.97986721e-01,  9.98870117e-01,\n",
       "         1.08530155e+00,  1.15743729e+00,  1.21553852e+00,\n",
       "         1.25996233e+00,  1.29115292e+00,  1.30963316e+00,\n",
       "         1.31599632e+00,  1.31089811e+00,  1.29504889e+00,\n",
       "         1.26920626e+00,  1.23416782e+00,  1.19076415e+00,\n",
       "         1.13985218e+00,  1.08230867e+00,  1.01902405e+00,\n",
       "         9.50896441e-01,  8.78825970e-01,  8.03709344e-01,\n",
       "         7.26434655e-01,  6.47876457e-01,  5.68891088e-01,\n",
       "         4.90312256e-01,  4.12946874e-01,  3.37571147e-01,\n",
       "         2.64926923e-01,  1.95718291e-01,  1.30608438e-01,\n",
       "         7.02167560e-02,  1.51162118e-02, -3.41690366e-02,\n",
       "        -7.71657636e-02, -1.13453547e-01, -1.42666382e-01,\n",
       "        -1.64494044e-01, -1.78683194e-01, -1.85038228e-01,\n",
       "        -1.83421873e-01, -1.73755533e-01, -1.56019368e-01,\n",
       "        -1.30252132e-01, -9.65507463e-02, -5.50696232e-02,\n",
       "        -6.01973202e-03,  5.03325882e-02,  1.13667071e-01,\n",
       "         1.83611221e-01,  2.59742264e-01,  3.41589357e-01,\n",
       "         4.28636046e-01,  5.20322987e-01,  6.16050916e-01,\n",
       "         7.15183874e-01,  8.17052690e-01,  9.20958717e-01,\n",
       "         1.02617782e+00,  1.13196463e+00,  1.23755703e+00,\n",
       "         1.34218093e+00,  1.44505526e+00,  1.54539723e+00,\n",
       "         1.64242789e+00,  1.73537785e+00,  1.82349336e+00,\n",
       "         1.90604254e+00,  1.98232198e+00,  2.05166348e+00,\n",
       "         2.11344114e+00,  2.16707864e+00,  2.21205680e+00,\n",
       "         2.24792141e+00,  2.27429129e+00,  2.29086658e+00,\n",
       "         2.29743739e+00,  2.29389257e+00,  2.28022881e+00,\n",
       "         2.25656001e+00,  2.22312684e+00,  2.18030664e+00,\n",
       "         2.12862347e+00,  2.06875850e+00,  2.00156065e+00,\n",
       "         1.92805743e+00,  1.84946605e+00,  1.76720485e+00,\n",
       "         1.68290491e+00,  1.59842194e+00,  1.51584842e+00,\n",
       "         1.43752602e+00,  1.36605824e+00,  1.30432333e+00,\n",
       "         1.25548743e+00],\n",
       "       [ 6.79502260e+00,  4.14319910e+00,  2.23123259e+00,\n",
       "         9.10494794e-01,  5.49795221e-02, -4.41345310e-01,\n",
       "        -6.66951318e-01, -6.94943768e-01, -5.85050491e-01,\n",
       "        -3.85419284e-01, -1.34236919e-01,  1.38817721e-01,\n",
       "         4.11274380e-01,  6.66714634e-01,  8.93746664e-01,\n",
       "         1.08510123e+00,  1.23683901e+00,  1.34765992e+00,\n",
       "         1.41830555e+00,  1.45104647e+00,  1.44924618e+00,\n",
       "         1.41699457e+00,  1.35880367e+00,  1.27935908e+00,\n",
       "         1.18332104e+00,  1.07516917e+00,  9.59085631e-01,\n",
       "         8.38871677e-01,  7.17892877e-01,  5.99048815e-01,\n",
       "         4.84763269e-01,  3.76991282e-01,  2.77239820e-01,\n",
       "         1.86599044e-01,  1.05781497e-01,  3.51668028e-02,\n",
       "        -2.51502569e-02, -7.53101699e-02, -1.15639250e-01,\n",
       "        -1.46601722e-01, -1.68754507e-01, -1.82705671e-01,\n",
       "        -1.89077302e-01, -1.88473396e-01, -1.81453148e-01,\n",
       "        -1.68509902e-01, -1.50055846e-01, -1.26412403e-01,\n",
       "        -9.78061602e-02, -6.43700311e-02, -2.61492875e-02,\n",
       "         1.68880326e-02,  6.48368834e-02,  1.17837760e-01,\n",
       "         1.76056702e-01,  2.39663475e-01,  3.08808658e-01,\n",
       "         3.83600402e-01,  4.64081625e-01,  5.50208391e-01,\n",
       "         6.41830217e-01,  7.38673001e-01,  8.40325247e-01,\n",
       "         9.46228175e-01,  1.05567027e+00,  1.16778669e+00,\n",
       "         1.28156401e+00,  1.39585032e+00,  1.50937116e+00,\n",
       "         1.62075101e+00,  1.72854036e+00,  1.83124804e+00,\n",
       "         1.92737843e+00,  2.01547279e+00,  2.09415411e+00,\n",
       "         2.16217421e+00,  2.21846218e+00,  2.26217238e+00,\n",
       "         2.29273065e+00,  2.30987644e+00,  2.31369908e+00,\n",
       "         2.30466528e+00,  2.28363548e+00,  2.25186574e+00,\n",
       "         2.21099200e+00,  2.16299289e+00,  2.11012706e+00,\n",
       "         2.05484089e+00,  1.99964150e+00,  1.94693032e+00,\n",
       "         1.89879152e+00,  1.85672947e+00,  1.82134905e+00,\n",
       "         1.79197202e+00,  1.76618235e+00,  1.73929294e+00,\n",
       "         1.70372573e+00,  1.64829668e+00,  1.55739668e+00,\n",
       "         1.41005889e+00]])"
      ]
     },
     "execution_count": 4,
     "metadata": {},
     "output_type": "execute_result"
    }
   ],
   "source": [
    "def answer_one():\n",
    "\n",
    "\n",
    "    degree_predictions = np.zeros((4, 100))\n",
    "\n",
    "    # YOUR CODE HERE\n",
    "    # raise NotImplementedError()\n",
    "    X_train_reshaped = X_train.reshape(-1, 1)\n",
    "    degree_predictions = np.zeros((4, 100))\n",
    "    x_array = np.linspace(0, 10, 100).reshape(100, 1)\n",
    "\n",
    "    poly1 = PolynomialFeatures(degree=1)\n",
    "    X_poly1 = poly1.fit_transform(X_train_reshaped)\n",
    "    linreg1 = LinearRegression().fit(X_poly1, y_train)\n",
    "    x_array1 = poly1.fit_transform(x_array)\n",
    "    X_predicted1 = linreg1.predict(x_array1)\n",
    "\n",
    "    poly3 = PolynomialFeatures(degree=3)\n",
    "    X_poly3 = poly3.fit_transform(X_train_reshaped)\n",
    "    linreg3 = LinearRegression().fit(X_poly3, y_train)\n",
    "    x_array3 = poly3.fit_transform(x_array)\n",
    "    X_predicted3 = linreg3.predict(x_array3)\n",
    "\n",
    "    poly6 = PolynomialFeatures(degree=6)\n",
    "    X_poly6 = poly6.fit_transform(X_train_reshaped)\n",
    "    linreg6 = LinearRegression().fit(X_poly6, y_train)\n",
    "    x_array6 = poly6.fit_transform(x_array)\n",
    "    X_predicted6 = linreg6.predict(x_array6)\n",
    "\n",
    "    poly9 = PolynomialFeatures(degree=9)\n",
    "    X_poly9 = poly9.fit_transform(X_train_reshaped)\n",
    "    linreg9 = LinearRegression().fit(X_poly9, y_train)\n",
    "    x_array9 = poly9.fit_transform(x_array)\n",
    "    X_predicted9 = linreg9.predict(x_array9)\n",
    "\n",
    "    degree_predictions[0, :] = X_predicted1\n",
    "    degree_predictions[1, :] = X_predicted3\n",
    "    degree_predictions[2, :] = X_predicted6\n",
    "    degree_predictions[3, :] = X_predicted9\n",
    "\n",
    "    return degree_predictions\n",
    "\n",
    "answer_one()"
   ]
  },
  {
   "cell_type": "code",
   "execution_count": 5,
   "metadata": {},
   "outputs": [
    {
     "data": {
      "image/png": "[encoded data removed]",
      "text/plain": [
       "<Figure size 1000x500 with 1 Axes>"
      ]
     },
     "metadata": {},
     "output_type": "display_data"
    }
   ],
   "source": [
    "# feel free to use the function plot_one() to replicate the figure\n",
    "# from the prompt once you have completed question one\n",
    "\n",
    "def plot_one(degree_predictions):\n",
    "    plt.figure(figsize=(10, 5))\n",
    "    plt.plot(X_train, y_train, \"o\", label=\"training data\", markersize=10)\n",
    "    plt.plot(X_test, y_test, \"o\", label=\"test data\", markersize=10)\n",
    "    for i, degree in enumerate([1, 3, 6, 9]):\n",
    "        plt.plot(\n",
    "            np.linspace(0, 10, 100),\n",
    "            degree_predictions[i],\n",
    "            alpha=0.8,\n",
    "            lw=2,\n",
    "            label=\"degree={}\".format(degree),\n",
    "        )\n",
    "    plt.ylim(-1, 2.5)\n",
    "    plt.legend(loc=4)\n",
    "\n",
    "\n",
    "plot_one(answer_one())"
   ]
  },
  {
   "cell_type": "markdown",
   "metadata": {},
   "source": [
    "## Question 2\n",
    "Write a function that fits a polynomial LinearRegression model on the training data `X_train` for degrees 0 through 9. For each model compute the  \n",
    "$R^2$ (coefficient of determination) regression score on the training data as well as the the test data, and return both of these arrays in a tuple.\n",
    "\n",
    "*This function should return a tuple of numpy arrays `(r2_train, r2_test)`. Both arrays should have shape `(10,)`*"
   ]
  },
  {
   "cell_type": "code",
   "execution_count": 6,
   "metadata": {},
   "outputs": [
    {
     "data": {
      "text/plain": [
       "([0.0,\n",
       "  0.4292457781234663,\n",
       "  0.45109980444082454,\n",
       "  0.587199536877985,\n",
       "  0.91941944717693,\n",
       "  0.9757864143068212,\n",
       "  0.9901823324795117,\n",
       "  0.9935250927840341,\n",
       "  0.9963754538775444,\n",
       "  0.9980370625627277],\n",
       " [-0.4780864173714179,\n",
       "  -0.45237104233936676,\n",
       "  -0.06856984149916023,\n",
       "  0.005331052945678927,\n",
       "  0.7300494281871117,\n",
       "  0.8770830091635808,\n",
       "  0.9214093981299972,\n",
       "  0.9202150412190717,\n",
       "  0.6324793646386272,\n",
       "  -0.6452558288947194])"
      ]
     },
     "execution_count": 6,
     "metadata": {},
     "output_type": "execute_result"
    }
   ],
   "source": [
    "def answer_two():\n",
    "    from sklearn.linear_model import LinearRegression\n",
    "    from sklearn.metrics import r2_score\n",
    "    from sklearn.preprocessing import PolynomialFeatures\n",
    "\n",
    "    X_train_reshaped = X_train.reshape(-1, 1)\n",
    "    X_test_reshaped = X_test.reshape(-1, 1)\n",
    "\n",
    "    r2_train = []\n",
    "    r2_test = []\n",
    "\n",
    "    # YOUR CODE HERE\n",
    "\n",
    "    for i in range(0,10):\n",
    "        poly = PolynomialFeatures(degree=i)\n",
    "        X_train_poly = poly.fit_transform(X_train_reshaped)\n",
    "        X_test_poly = poly.fit_transform(X_test_reshaped)\n",
    "        linreg = LinearRegression().fit(X_train_poly, y_train)\n",
    "        r2_train.append(linreg.score(X_train_poly,y_train))\n",
    "        r2_test.append(linreg.score(X_test_poly,y_test))\n",
    "\n",
    "    return (r2_train,r2_test)\n",
    "\n",
    "answer_two()"
   ]
  },
  {
   "cell_type": "markdown",
   "metadata": {},
   "source": [
    "## Question 3\n",
    "Based on the $R^2$ scores from question 2 (degree levels 0 through 9), what degree level corresponds to a model that is underfitting? What degree level corresponds to a model that is overfitting? What choice of degree level would provide a model with good generalization performance on this dataset?\n",
    "\n",
    "(Hint: Try plotting the $R^2$ scores from question 2 to visualize the relationship)\n",
    "\n",
    "*This function should return a tuple with the degree values in this order: `(Underfitting, Overfitting, Good_Generalization)`*"
   ]
  },
  {
   "cell_type": "code",
   "execution_count": 7,
   "metadata": {},
   "outputs": [
    {
     "data": {
      "text/plain": [
       "(0, 9, 6)"
      ]
     },
     "execution_count": 7,
     "metadata": {},
     "output_type": "execute_result"
    }
   ],
   "source": [
    "r2_train = answer_two()[0]\n",
    "r2_test = answer_two()[1]\n",
    "\n",
    "def answer_three():\n",
    "    # YOUR CODE HERE\n",
    "    Good_Generalization = r2_test.index(max(r2_test))\n",
    "    Underfitting = r2_train.index(min(r2_train))\n",
    "    Overfitting = r2_train.index(max(r2_train))\n",
    "    return (Underfitting, Overfitting, Good_Generalization)\n",
    "\n",
    "answer_three()"
   ]
  },
  {
   "cell_type": "markdown",
   "metadata": {},
   "source": [
    "## Question 4\n",
    "Training models on high degree polynomial features can result in overfitting. Train two models: a non-regularized LinearRegression model and a Lasso Regression model (with parameters `alpha=0.01`, `max_iter=10000`, `tol=0.1`) on polynomial features of degree 12. Return the $R^2$ score for LinearRegression and Lasso model's test sets.\n",
    "\n",
    "*This function should return a tuple `(LinearRegression_R2_test_score, Lasso_R2_test_score)`*"
   ]
  },
  {
   "cell_type": "code",
   "execution_count": 8,
   "metadata": {},
   "outputs": [
    {
     "data": {
      "text/plain": [
       "(-4.312004795220586, 0.6051396919570071)"
      ]
     },
     "execution_count": 8,
     "metadata": {},
     "output_type": "execute_result"
    }
   ],
   "source": [
    "def answer_four():\n",
    "    from sklearn.linear_model import Lasso, LinearRegression\n",
    "    from sklearn.metrics import r2_score\n",
    "    from sklearn.preprocessing import PolynomialFeatures\n",
    "\n",
    "    # YOUR CODE HERE\n",
    "    X_train_reshaped = X_train.reshape(-1, 1)\n",
    "    X_test_reshaped = X_test.reshape(-1, 1)\n",
    "\n",
    "    poly = PolynomialFeatures(degree=12)\n",
    "    X_train_poly = poly.fit_transform(X_train_reshaped)\n",
    "    X_test_poly = poly.fit_transform(X_test_reshaped)\n",
    "    linreg = LinearRegression().fit(X_train_poly, y_train)\n",
    "    linlasso = Lasso(alpha = 0.01,max_iter = 10000,tol = 0.1).fit(X_train_poly,y_train)\n",
    "\n",
    "    y_linreg_predicted = linreg.predict(X_test_poly)\n",
    "    y_linlasso_predicted = linlasso.predict(X_test_poly)\n",
    "\n",
    "    LinearRegression_R2_test_score = r2_score(y_test,y_linreg_predicted)\n",
    "    Lasso_R2_test_score = r2_score(y_test,y_linlasso_predicted)\n",
    "\n",
    "    return(LinearRegression_R2_test_score,Lasso_R2_test_score)\n",
    "\n",
    "answer_four()"
   ]
  },
  {
   "cell_type": "markdown",
   "metadata": {},
   "source": [
    "## Part 2 - Classification\n",
    "For this section of the assignment, we will be working with the `UCI Mushroom Data Set` stored in `mushrooms.csv`. The data will be used to train a model to predict whether or not a mushroom is poisonous. The following attributes are provided:\n",
    "\n",
    "*Attribute Information:*\n",
    "1. cap-shape: bell=b, conical=c, convex=x, flat=f, knobbed=k, sunken=s\n",
    "2. cap-surface: fibrous=f, grooves=g, scaly=y, smooth=s\n",
    "3. cap-color: brown=n, buff=b, cinnamon=c, gray=g, green=r, pink=p, purple=u, red=e, white=w, yellow=y\n",
    "4. bruises?: bruises=t, no=f\n",
    "5. odor: almond=a, anise=l, creosote=c, fishy=y, foul=f, musty=m, none=n, pungent=p, spicy=s\n",
    "6. gill-attachment: attached=a, descending=d, free=f, notched=n\n",
    "7. gill-spacing: close=c, crowded=w, distant=d\n",
    "8. gill-size: broad=b, narrow=n\n",
    "9. gill-color: black=k, brown=n, buff=b, chocolate=h, gray=g, green=r, orange=o, pink=p, purple=u, red=e, white=w, yellow=y\n",
    "10. stalk-shape: enlarging=e, tapering=t\n",
    "11. stalk-root: bulbous=b, club=c, cup=u, equal=e, rhizomorphs=z, rooted=r, missing=?\n",
    "12. stalk-surface-above-ring: fibrous=f, scaly=y, silky=k, smooth=s\n",
    "13. stalk-surface-below-ring: fibrous=f, scaly=y, silky=k, smooth=s\n",
    "14. stalk-color-above-ring: brown=n, buff=b, cinnamon=c, gray=g, orange=o, pink=p, red=e, white=w, yellow=y\n",
    "15. stalk-color-below-ring: brown=n, buff=b, cinnamon=c, gray=g, orange=o, pink=p, red=e, white=w, yellow=y\n",
    "16. veil-type: partial=p, universal=u\n",
    "17. veil-color: brown=n, orange=o, white=w, yellow=y\n",
    "18. ring-number: none=n, one=o, two=t\n",
    "19. ring-type: cobwebby=c, evanescent=e, flaring=f, large=l, none=n, pendant=p, sheathing=s, zone=z\n",
    "20. spore-print-color: black=k, brown=n, buff=b, chocolate=h, green=r, orange=o, purple=u, white=w, yellow=y\n",
    "21. population: abundant=a, clustered=c, numerous=n, scattered=s, several=v, solitary=y\n",
    "22. habitat: grasses=g, leaves=l, meadows=m, paths=p, urban=u, waste=w, woods=d\n",
    "\n",
    "The data in the mushrooms dataset is currently encoded with strings. These values will need to be encoded to numeric to work with sklearn. We'll use `pd.get_dummies` to convert the categorical variables into indicator variables."
   ]
  },
  {
   "cell_type": "code",
   "execution_count": 9,
   "metadata": {},
   "outputs": [],
   "source": [
    "mush_df = pd.read_csv('assets/mushrooms.csv')\n",
    "mush_df2 = pd.get_dummies(mush_df)\n",
    "\n",
    "X_mush = mush_df2.iloc[:,2:]\n",
    "y_mush = mush_df2.iloc[:,1]\n",
    "\n",
    "\n",
    "X_train2, X_test2, y_train2, y_test2 = train_test_split(X_mush, y_mush, random_state=0)"
   ]
  },
  {
   "cell_type": "markdown",
   "metadata": {},
   "source": [
    "## Question 5\n",
    "Using `X_train` and `y_train` from the preceding cell, train a `DecisionTreeClassifier` with default parameters and `random_state=0`. What are the 5 most important features found by the decision tree?\n",
    "\n",
    "*This function should return a list of length 5 of the feature names in descending order of importance.*"
   ]
  },
  {
   "cell_type": "code",
   "execution_count": 10,
   "metadata": {},
   "outputs": [
    {
     "data": {
      "text/plain": [
       "['odor_n', 'stalk-root_c', 'stalk-root_r', 'spore-print-color_r', 'odor_l']"
      ]
     },
     "execution_count": 10,
     "metadata": {},
     "output_type": "execute_result"
    }
   ],
   "source": [
    "def answer_five():\n",
    "    from sklearn.tree import DecisionTreeClassifier\n",
    "\n",
    "    # YOUR CODE HERE\n",
    "    clf = DecisionTreeClassifier(random_state=0).fit(X_train2, y_train2)\n",
    "    df = pd.DataFrame({'feature': X_train2.columns, 'importance': clf.feature_importances_})\n",
    "    df_feature = df.sort_values(['importance'],ascending=False)\n",
    "    return(list(df_feature['feature'][0:5]))\n",
    "\n",
    "answer_five()"
   ]
  },
  {
   "cell_type": "markdown",
   "metadata": {},
   "source": [
    "## Question 6\n",
    "For this question, use the validation_curve function in sklearn.model_selection to determine training and test scores for a Support Vector Classifier (SVC) with varying parameter values.\n",
    "\n",
    "Create an SVC with default parameters (i.e. kernel='rbf', C=1) and random_state=0. Recall that the kernel width of the RBF kernel is controlled using the gamma parameter. Explore the effect of gamma on classifier accuracy by using the validation_curve function to find the training and test scores for 6 values of gamma from 0.0001 to 10 (i.e. np.logspace(-4,1,6)).\n",
    "\n",
    "For each level of gamma, validation_curve will use 3-fold cross validation (use cv=3, n_jobs=2 as parameters for validation_curve), returning two 6x3 (6 levels of gamma x 3 fits per level) arrays of the scores for the training and test sets in each fold.\n",
    "\n",
    "Find the mean score across the five models for each level of gamma for both arrays, creating two arrays of length 6, and return a tuple with the two arrays.\n",
    "\n",
    "e.g.\n",
    "\n",
    "if one of your array of scores is\n",
    "\n",
    "```\n",
    "array([[ 0.5,  0.4,  0.6],\n",
    "       [ 0.7,  0.8,  0.7],\n",
    "       [ 0.9,  0.8,  0.8],\n",
    "       [ 0.8,  0.7,  0.8],\n",
    "       [ 0.7,  0.6,  0.6],\n",
    "       [ 0.4,  0.6,  0.5]])\n",
    "```\n",
    "\n",
    "it should then become\n",
    "\n",
    "```\n",
    "array([ 0.5,  0.73333333,  0.83333333,  0.76666667,  0.63333333, 0.5])\n",
    "```\n",
    "*This function should return a tuple of numpy arrays `(training_scores, test_scores)` where each array in the tuple has shape `(6,)`.*"
   ]
  },
  {
   "cell_type": "code",
   "execution_count": 11,
   "metadata": {},
   "outputs": [
    {
     "data": {
      "text/plain": [
       "(array([0.89069424, 0.97275562, 0.99753816, 1.        , 1.        ,\n",
       "        1.        ]),\n",
       " array([0.88987363, 0.9704579 , 0.99622518, 1.        , 1.        ,\n",
       "        0.51649434]))"
      ]
     },
     "execution_count": 11,
     "metadata": {},
     "output_type": "execute_result"
    }
   ],
   "source": [
    "def answer_six():\n",
    "\n",
    "    # YOUR CODE HERE\n",
    "    param_range = np.logspace(-4,1,6)\n",
    "\n",
    "    train_scores, test_scores = validation_curve(SVC(random_state=0), X_train2, y_train2,\n",
    "                                                param_name='gamma',\n",
    "                                                param_range=param_range, cv=3, n_jobs=2)\n",
    "\n",
    "    train_scores_mean = np.array(list(np.mean(train_scores, axis=1)))\n",
    "    test_scores_mean = np.array(list(np.mean(test_scores, axis=1)))\n",
    "\n",
    "    return (train_scores_mean, test_scores_mean)\n",
    "\n",
    "answer_six()"
   ]
  },
  {
   "cell_type": "markdown",
   "metadata": {},
   "source": [
    "## Question 7\n",
    "Based on the scores from question 6, what gamma value corresponds to a model that is underfitting? What gamma value corresponds to a model that is overfitting? What choice of gamma would provide a model with good generalization performance on this dataset?\n",
    "\n",
    "(Hint: Try plotting the scores from question 6 to visualize the relationship)\n",
    "\n",
    "This function should return a tuple with the degree values in this order: `(Underfitting, Overfitting, Good_Generalization)`"
   ]
  },
  {
   "cell_type": "code",
   "execution_count": 12,
   "metadata": {},
   "outputs": [
    {
     "data": {
      "text/plain": [
       "(0.0001, 10.0, 0.1)"
      ]
     },
     "execution_count": 12,
     "metadata": {},
     "output_type": "execute_result"
    }
   ],
   "source": [
    "train_scores_mean = list(answer_six()[0])\n",
    "test_scores_mean = list(answer_six()[1])\n",
    "\n",
    "param_range = np.logspace(-4,1,6)\n",
    "\n",
    "def answer_seven():\n",
    "    # YOUR CODE HERE\n",
    "    Good_Generalization = param_range[test_scores_mean.index(max(test_scores_mean))]\n",
    "    Underfitting = param_range[train_scores_mean.index(min(train_scores_mean))]\n",
    "    Overfitting = param_range[-1]\n",
    "\n",
    "    return (Underfitting, Overfitting, Good_Generalization)\n",
    "\n",
    "answer_seven()"
   ]
  }
 ],
 "metadata": {
  "kernelspec": {
   "display_name": "python_prep",
   "language": "python",
   "name": "python_prep"
  },
  "language_info": {
   "codemirror_mode": {
    "name": "ipython",
    "version": 3
   },
   "file_extension": ".py",
   "mimetype": "text/x-python",
   "name": "python",
   "nbconvert_exporter": "python",
   "pygments_lexer": "ipython3",
   "version": "3.12.3"
  },
  "vscode": {
   "interpreter": {
    "hash": "e37262a048abd8621738cafecb2095b9e53550807265ef117f5fcc2a0c34ec0f"
   }
  }
 },
 "nbformat": 4,
 "nbformat_minor": 4
}
