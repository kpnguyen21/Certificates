{
 "cells": [
  {
   "cell_type": "code",
   "execution_count": 78,
   "metadata": {},
   "outputs": [
    {
     "name": "stdout",
     "output_type": "stream",
     "text": [
      "       title_word_count  document_entropy  freshness   easiness  \\\n",
      "id                                                                \n",
      "9240                  6          8.548351      14140  89.827395   \n",
      "9241                  8          7.730110      14600  82.446667   \n",
      "9242                  3          8.200887      16980  88.821542   \n",
      "9243                  5          6.377299      16260  86.874660   \n",
      "9244                 18          7.756530      14030  88.872277   \n",
      "...                 ...               ...        ...        ...   \n",
      "11544                11          7.781813      13920  80.620236   \n",
      "11545                 3          7.800766      13990  94.080225   \n",
      "11546                 2          8.235828      14280  95.173070   \n",
      "11547                13          6.775492      15900  74.053098   \n",
      "11548                 3          7.880263      14580  81.272756   \n",
      "\n",
      "       fraction_stopword_presence  normalization_rate  speaker_speed  \\\n",
      "id                                                                     \n",
      "9240                     0.640810            0.017945       2.262723   \n",
      "9241                     0.606738            0.027708       2.690351   \n",
      "9242                     0.621089            0.009857       3.116071   \n",
      "9243                     0.600000            0.004348       2.837500   \n",
      "9244                     0.616105            0.033240       1.354839   \n",
      "...                           ...                 ...            ...   \n",
      "11544                    0.611722            0.031276       2.193125   \n",
      "11545                    0.654741            0.013967       1.580000   \n",
      "11546                    0.618686            0.018486       5.548518   \n",
      "11547                    0.560472            0.032448       2.592308   \n",
      "11548                    0.638440            0.023174       2.462088   \n",
      "\n",
      "       silent_period_rate  \n",
      "id                         \n",
      "9240             0.000000  \n",
      "9241             0.000000  \n",
      "9242             0.000000  \n",
      "9243             0.017994  \n",
      "9244             0.000000  \n",
      "...                   ...  \n",
      "11544            0.194918  \n",
      "11545            0.338601  \n",
      "11546            0.369348  \n",
      "11547            0.005131  \n",
      "11548            0.224988  \n",
      "\n",
      "[2309 rows x 8 columns]\n",
      "id\n",
      "9240      \n",
      "9241      \n",
      "9242      \n",
      "9243      \n",
      "9244      \n",
      "        ..\n",
      "11544     \n",
      "11545     \n",
      "11546     \n",
      "11547     \n",
      "11548     \n",
      "Name: probability, Length: 2309, dtype: object\n"
     ]
    }
   ],
   "source": [
    "import pandas as pd\n",
    "import numpy as np\n",
    "\n",
    "\n",
    "df_test = pd.read_csv('assets/test.csv')\n",
    "df_train = pd.read_csv('assets/train.csv')\n",
    "\n",
    "#print(df_test.columns)\n",
    "#print(df_train.columns)\n",
    "#print(df_train.dtypes)\n",
    "\n",
    "X = df_train.drop(columns=['id','engagement'])\n",
    "Xt = df_test.set_index('id')\n",
    "print(Xt)\n",
    "y = np.multiply(df_train['engagement'],1)\n",
    "\n",
    "Xt['probability'] = ''"
   ]
  },
  {
   "cell_type": "code",
   "execution_count": 69,
   "metadata": {},
   "outputs": [
    {
     "name": "stdout",
     "output_type": "stream",
     "text": [
      "0.9311688311688312\n",
      "0.7095499234227558\n",
      "Grid best parameter (max. AUC):  {'max_depth': None, 'n_estimators': 100}\n",
      "Grid best score (AUC):  0.8844716380407535\n"
     ]
    }
   ],
   "source": [
    "import pandas as pd\n",
    "import numpy as np\n",
    "from sklearn.model_selection import train_test_split\n",
    "from sklearn.ensemble import RandomForestClassifier\n",
    "from sklearn.ensemble import RandomForestRegressor\n",
    "from sklearn.metrics import accuracy_score\n",
    "from sklearn.model_selection import GridSearchCV\n",
    "from sklearn.metrics import roc_auc_score\n",
    "from sklearn.metrics import roc_curve, auc\n",
    "#X_train, X_test, y_train, y_test = train_test_split(X, y, test_size=0.33, random_state=42)\n",
    "X_train, X_test, y_train, y_test = train_test_split(X, y,random_state = 0)\n",
    "\n",
    "clf = RandomForestClassifier(n_estimators=1000).fit(X_train, y_train)\n",
    "y_predict = clf.predict(X_test)\n",
    "print(accuracy_score(y_test, y_predict))\n",
    "\n",
    "fpr, tpr, thresholds = roc_curve(y_test, y_predict)\n",
    "print(auc(fpr, tpr))\n",
    "\n",
    "clf = RandomForestRegressor()\n",
    "grid_values = {'n_estimators': [10, 100], 'max_depth': [None, 30]}\n",
    "grid_clf_auc = GridSearchCV(clf, param_grid=grid_values, scoring='roc_auc')\n",
    "grid_clf_auc.fit(X_train, y_train)\n",
    "print('Grid best parameter (max. AUC): ', grid_clf_auc.best_params_)\n",
    "print('Grid best score (AUC): ', grid_clf_auc.best_score_)\n",
    "\n",
    "\n",
    "#print(np.where(df_test['id']==9240)[0][0])\n",
    "#print(np.where(df_train['id']==9240))"
   ]
  },
  {
   "cell_type": "code",
   "execution_count": 103,
   "metadata": {},
   "outputs": [
    {
     "name": "stdout",
     "output_type": "stream",
     "text": [
      "Grid best parameter (max. AUC):  {'max_depth': 30, 'n_estimators': 100}\n",
      "Grid best score (AUC):  0.8837404992701225\n",
      "       probability\n",
      "id                \n",
      "9240          0.01\n",
      "9241          0.10\n",
      "9242          0.04\n",
      "9243          0.97\n",
      "9244          0.08\n",
      "...            ...\n",
      "11544         0.00\n",
      "11545         0.00\n",
      "11546         0.01\n",
      "11547         0.97\n",
      "11548         0.00\n",
      "\n",
      "[2309 rows x 1 columns]\n",
      "<class 'pandas.core.frame.DataFrame'>\n",
      "id\n",
      "9240     0.01\n",
      "9241     0.10\n",
      "9242     0.04\n",
      "9243     0.97\n",
      "9244     0.08\n",
      "         ... \n",
      "11544    0.00\n",
      "11545    0.00\n",
      "11546    0.01\n",
      "11547    0.97\n",
      "11548    0.00\n",
      "Name: probability, Length: 2309, dtype: float64\n",
      "<class 'pandas.core.series.Series'>\n"
     ]
    }
   ],
   "source": [
    "import pandas as pd\n",
    "import numpy as np\n",
    "from sklearn.model_selection import train_test_split\n",
    "from sklearn.ensemble import RandomForestRegressor\n",
    "from sklearn.model_selection import GridSearchCV\n",
    "    \n",
    "# YOUR CODE HERE\n",
    "    \n",
    "\n",
    "df_test = pd.read_csv('assets/test.csv')\n",
    "df_train = pd.read_csv('assets/train.csv')\n",
    "\n",
    "X = df_train.drop(columns=['id','engagement'])\n",
    "Xt = df_test.set_index('id')\n",
    "    #print(Xt)\n",
    "y = np.multiply(df_train['engagement'],1)\n",
    "\n",
    "X_train, X_test, y_train, y_test = train_test_split(X, y,random_state = 0)\n",
    "\n",
    "clf = RandomForestRegressor()\n",
    "grid_values = {'n_estimators': [10, 100], 'max_depth': [None, 30]}\n",
    "grid_clf_auc = GridSearchCV(clf, param_grid=grid_values, scoring='roc_auc')\n",
    "grid_clf_auc.fit(X_train, y_train)\n",
    "print('Grid best parameter (max. AUC): ', grid_clf_auc.best_params_)\n",
    "print('Grid best score (AUC): ', grid_clf_auc.best_score_)\n",
    "\n",
    "yt = grid_clf_auc.predict(Xt)\n",
    "df_test['probability'] = yt\n",
    "\n",
    "#print(df_test)\n",
    "rec = df_test[['id','probability']]\n",
    "rec = rec.set_index('id')\n",
    "print(rec)\n",
    "print(type(rec))\n",
    "\n",
    "result = rec.iloc[:,-1]\n",
    "print(result)\n",
    "print(type(result))\n",
    "\n"
   ]
  },
  {
   "cell_type": "code",
   "execution_count": 109,
   "metadata": {},
   "outputs": [
    {
     "name": "stdout",
     "output_type": "stream",
     "text": [
      "Grid best parameter (max. AUC):  {'max_depth': 30, 'n_estimators': 100}\n",
      "Grid best score (AUC):  0.8844581107120462\n"
     ]
    },
    {
     "data": {
      "text/plain": [
       "id\n",
       "9240     0.01\n",
       "9241     0.08\n",
       "9242     0.06\n",
       "9243     0.90\n",
       "9244     0.02\n",
       "         ... \n",
       "11544    0.00\n",
       "11545    0.00\n",
       "11546    0.00\n",
       "11547    0.97\n",
       "11548    0.00\n",
       "Name: probability, Length: 2309, dtype: float64"
      ]
     },
     "execution_count": 109,
     "metadata": {},
     "output_type": "execute_result"
    }
   ],
   "source": [
    "def engagement_model():\n",
    "    rec = None\n",
    "    import pandas as pd\n",
    "    import numpy as np\n",
    "    from sklearn.model_selection import train_test_split\n",
    "    from sklearn.ensemble import RandomForestRegressor\n",
    "    from sklearn.model_selection import GridSearchCV\n",
    "    \n",
    "    # YOUR CODE HERE\n",
    "    \n",
    "    df_test = pd.read_csv('assets/test.csv')\n",
    "    df_train = pd.read_csv('assets/train.csv')\n",
    "\n",
    "    X = df_train.drop(columns=['id','engagement'])\n",
    "    Xt = df_test.set_index('id')\n",
    "        #print(Xt)\n",
    "    y = np.multiply(df_train['engagement'],1)\n",
    "\n",
    "    X_train, X_test, y_train, y_test = train_test_split(X, y,random_state = 0)\n",
    "\n",
    "    clf = RandomForestRegressor()\n",
    "    grid_values = {'n_estimators': [10, 100], 'max_depth': [None, 30]}\n",
    "    grid_clf_auc = GridSearchCV(clf, param_grid=grid_values, scoring='roc_auc')\n",
    "    grid_clf_auc.fit(X_train, y_train)\n",
    "    print('Grid best parameter (max. AUC): ', grid_clf_auc.best_params_)\n",
    "    print('Grid best score (AUC): ', grid_clf_auc.best_score_)\n",
    "\n",
    "    yt = grid_clf_auc.predict(Xt)\n",
    "    df_test['probability'] = yt\n",
    "\n",
    "    #print(df_test)\n",
    "    #result = df_test[['id','probability']]\n",
    "    #result = result.set_index('id')\n",
    "\n",
    "    #rec = result.iloc[:,-1]\n",
    "    rec = df_test[['id','probability']]\n",
    "    rec = rec.set_index('id')\n",
    "\n",
    "    rec = rec.iloc[:,0] \n",
    "    #raise NotImplementedError()\n",
    "    \n",
    "    return rec\n",
    "\n",
    "engagement_model()"
   ]
  },
  {
   "cell_type": "code",
   "execution_count": 110,
   "metadata": {},
   "outputs": [
    {
     "name": "stdout",
     "output_type": "stream",
     "text": [
      "Grid best parameter (max. AUC):  {'max_depth': 30, 'n_estimators': 100}\n",
      "Grid best score (AUC):  0.8876173046023424\n"
     ]
    },
    {
     "data": {
      "text/plain": [
       "pandas.core.series.Series"
      ]
     },
     "execution_count": 110,
     "metadata": {},
     "output_type": "execute_result"
    }
   ],
   "source": [
    "type(engagement_model())"
   ]
  }
 ],
 "metadata": {
  "kernelspec": {
   "display_name": "coursera",
   "language": "python",
   "name": "python3"
  },
  "language_info": {
   "codemirror_mode": {
    "name": "ipython",
    "version": 3
   },
   "file_extension": ".py",
   "mimetype": "text/x-python",
   "name": "python",
   "nbconvert_exporter": "python",
   "pygments_lexer": "ipython3",
   "version": "3.9.13"
  },
  "orig_nbformat": 4,
  "vscode": {
   "interpreter": {
    "hash": "e37262a048abd8621738cafecb2095b9e53550807265ef117f5fcc2a0c34ec0f"
   }
  }
 },
 "nbformat": 4,
 "nbformat_minor": 2
}
