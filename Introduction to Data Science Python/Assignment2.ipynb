{
 "cells": [
  {
   "cell_type": "markdown",
   "metadata": {},
   "source": [
    "# Assignment 2"
   ]
  },
  {
   "cell_type": "markdown",
   "metadata": {},
   "source": [
    "For this assignment you'll be looking at 2017 data on immunizations from the CDC. Your datafile for this assignment is in [assets/NISPUF17.csv](assets/NISPUF17.csv). A data users guide for this, which you'll need to map the variables in the data to the questions being asked, is available at [assets/NIS-PUF17-DUG.pdf](assets/NIS-PUF17-DUG.pdf). \n",
    "\n",
    "**Note: you may have to go to your Jupyter tree (click on the Coursera image) and navigate to the assignment 2 assets folder to see this PDF file).**"
   ]
  },
  {
   "cell_type": "code",
   "execution_count": 1,
   "metadata": {},
   "outputs": [],
   "source": [
    "import scipy.stats as stats\n",
    "import numpy as np\n",
    "import pandas as pd"
   ]
  },
  {
   "cell_type": "markdown",
   "metadata": {},
   "source": [
    "## Question 1\n",
    "\n",
    "Write a function called `proportion_of_education` which returns the proportion of children in the dataset who had a mother with the education levels equal to less than high school (<12), high school (12), more than high school but not a college graduate (>12) and college degree.\n",
    "\n",
    "This function should return a dictionary in the form of (use the correct numbers, do not round numbers):\n",
    "\n",
    "    {\"less than high school\":0.2,\n",
    "    \"high school\":0.4,\n",
    "    \"more than high school but not college\":0.2,\n",
    "    \"college\":0.2}"
   ]
  },
  {
   "cell_type": "code",
   "execution_count": 2,
   "metadata": {},
   "outputs": [
    {
     "data": {
      "text/plain": [
       "{'less than high school': 0.10202002459160373,\n",
       " 'high school': 0.172352011241876,\n",
       " 'more than high school but not college': 0.24588090637625154,\n",
       " 'college': 0.47974705779026877}"
      ]
     },
     "execution_count": 2,
     "metadata": {},
     "output_type": "execute_result"
    }
   ],
   "source": [
    "def proportion_of_education():\n",
    "\n",
    "    df = pd.read_csv('assets/NISPUF17.csv')\n",
    "    no_of_children = len(df[\"EDUC1\"])\n",
    "\n",
    "    less_hs = 0\n",
    "    hs = 0\n",
    "    more_hs = 0\n",
    "    college = 0\n",
    "    for i in range(no_of_children):\n",
    "        if df[\"EDUC1\"][i] == 1:\n",
    "            less_hs += 1\n",
    "        if df[\"EDUC1\"][i] == 2:\n",
    "            hs += 1\n",
    "        if df[\"EDUC1\"][i] == 3:\n",
    "            more_hs += 1\n",
    "        if df[\"EDUC1\"][i] == 4:\n",
    "            college += 1\n",
    "            \n",
    "    my_dictionary = {\n",
    "            \"less than high school\":less_hs/no_of_children,\n",
    "            \"high school\":hs/no_of_children,\n",
    "            \"more than high school but not college\":more_hs/no_of_children,\n",
    "            \"college\":college/no_of_children\n",
    "        }\n",
    "    return my_dictionary\n",
    "\n",
    "proportion_of_education()"
   ]
  },
  {
   "cell_type": "markdown",
   "metadata": {},
   "source": [
    "## Question 2\n",
    "Let's explore the relationship between being fed breastmilk as a child and getting a seasonal influenza vaccine from a healthcare provider. Return a tuple of the average number of influenza vaccines for those children we know received breastmilk as a child and those who know did not.\n",
    "\n",
    "This function should return a tuple in the form (use the correct numbers: (2.5, 0.1))"
   ]
  },
  {
   "cell_type": "code",
   "execution_count": 3,
   "metadata": {},
   "outputs": [
    {
     "data": {
      "text/plain": [
       "(1.8799187420058687, 1.5963945918878317)"
      ]
     },
     "execution_count": 3,
     "metadata": {},
     "output_type": "execute_result"
    }
   ],
   "source": [
    "def average_influenza_doses():\n",
    "    df = pd.read_csv('assets/NISPUF17.csv')\n",
    "\n",
    "    columns_to_keep = [\"CBF_01\",\"P_NUMFLU\"]\n",
    "    new_df = df[columns_to_keep]\n",
    "    \n",
    "    new_df = new_df.dropna()\n",
    "    pop = len(new_df[\"CBF_01\"])\n",
    "    \n",
    "    no_of_bf = 0\n",
    "    no_of_nbf = 0\n",
    "    avg_vacc_bf = 0\n",
    "    avg_vacc_nbf = 0\n",
    "    \n",
    "    for i in range(pop):\n",
    "        if new_df.iloc[i][\"CBF_01\"] == 1:\n",
    "            no_of_bf += 1\n",
    "            avg_vacc_bf += new_df.iloc[i][\"P_NUMFLU\"]\n",
    "        if new_df.iloc[i][\"CBF_01\"] == 2:\n",
    "            no_of_nbf += 1\n",
    "            avg_vacc_nbf += new_df.iloc[i][\"P_NUMFLU\"]\n",
    "            \n",
    "    return (avg_vacc_bf/no_of_bf, avg_vacc_nbf/no_of_nbf)\n",
    "\n",
    "average_influenza_doses()"
   ]
  },
  {
   "cell_type": "markdown",
   "metadata": {},
   "source": [
    "## Question 3\n",
    "It would be interesting to see if there is any evidence of a link between vaccine effectiveness and sex of the child. \n",
    "Calculate the ratio of the number of children who contracted chickenpox but were vaccinated against it (at least one varicella dose) \n",
    "versus those who were vaccinated but did not contract chicken pox. Return results by sex. \n",
    "\n",
    "This function should return a dictionary in the form of (use the correct numbers):\n",
    "```*\n",
    "{\"male\":0.2,\n",
    "\"female\":0.4}\n",
    "```\n",
    "\n",
    "***Note: To aid in verification, the `chickenpox_by_sex()['female']` value the autograder is looking for starts with the digits `0.0077`.***"
   ]
  },
  {
   "cell_type": "code",
   "execution_count": 4,
   "metadata": {},
   "outputs": [
    {
     "data": {
      "text/plain": [
       "{'male': 0.009675583380762664, 'female': 0.0077918259335489565}"
      ]
     },
     "execution_count": 4,
     "metadata": {},
     "output_type": "execute_result"
    }
   ],
   "source": [
    "def chickenpox_by_sex():\n",
    "    # YOUR CODE HERE\n",
    "    df = pd.read_csv('assets/NISPUF17.csv')\n",
    "\n",
    "    columns_to_keep = [\"SEX\",\"HAD_CPOX\",\"P_NUMVRC\"]\n",
    "\n",
    "    new_df = df[columns_to_keep].dropna()\n",
    "\n",
    "    # Remove all data with \"HAD_CPOX\" = 77\n",
    "    new_df = new_df[new_df[\"HAD_CPOX\"] != 77]\n",
    "\n",
    "    male_df = new_df[new_df[\"SEX\"] == 1]\n",
    "    female_df = new_df[new_df[\"SEX\"] == 2]\n",
    "\n",
    "    male_vacc_df = male_df[male_df[\"P_NUMVRC\"] >= 1]\n",
    "    no_male_ratio = len(male_vacc_df[male_vacc_df[\"HAD_CPOX\"] == 1])/len(male_vacc_df[male_vacc_df[\"HAD_CPOX\"] == 2])\n",
    "\n",
    "    female_vacc_df = female_df[female_df[\"P_NUMVRC\"] >= 1]\n",
    "    no_female_ratio = len(female_vacc_df[female_vacc_df[\"HAD_CPOX\"] == 1])/len(female_vacc_df[female_vacc_df[\"HAD_CPOX\"] == 2])\n",
    "\n",
    "\n",
    "    my_dictionary = {\n",
    "        \"male\":no_male_ratio,\n",
    "        \"female\":no_female_ratio\n",
    "    }\n",
    "    return my_dictionary\n",
    "\n",
    "chickenpox_by_sex()"
   ]
  },
  {
   "cell_type": "markdown",
   "metadata": {},
   "source": [
    "## Question 4\n",
    "A correlation is a statistical relationship between two variables. If we wanted to know if vaccines work, we might look at the correlation between the use of the vaccine and whether it results in prevention of the infection or disease [1]. In this question, you are to see if there is a correlation between having had the chicken pox and the number of chickenpox vaccine doses given (varicella).\n",
    "\n",
    "Some notes on interpreting the answer. The `had_chickenpox_column` is either `1` (for yes) or `2` (for no), and the `num_chickenpox_vaccine_column` is the number of doses a child has been given of the varicella vaccine. A positive correlation (e.g., `corr > 0`) means that an increase in `had_chickenpox_column` (which means more no’s) would also increase the values of num_chickenpox_vaccine_column (which means more doses of vaccine). If there is a negative correlation (e.g., `corr < 0`), it indicates that having had chickenpox is related to an increase in the number of vaccine doses.\n",
    "\n",
    "Also, `pval` is the probability that we observe a correlation between `had_chickenpox_column` and `num_chickenpox_vaccine_column` which is greater than or equal to a particular value occurred by chance. A small `pval` means that the observed correlation is highly unlikely to occur by chance. In this case, pval should be very small (will end in `e-18` indicating a very small number).\n",
    "\n",
    "[1] This isn’t really the full picture, since we are not looking at when the dose was given. It’s possible that children had chickenpox and then their parents went to get them the vaccine. Does this dataset have the data we would need to investigate the timing of the dose?"
   ]
  },
  {
   "cell_type": "code",
   "execution_count": 5,
   "metadata": {},
   "outputs": [
    {
     "data": {
      "text/plain": [
       "0.07044873460148007"
      ]
     },
     "execution_count": 5,
     "metadata": {},
     "output_type": "execute_result"
    }
   ],
   "source": [
    "def corr_chickenpox():\n",
    "\n",
    "    # YOUR CODE HERE\n",
    "    df = pd.read_csv('assets/NISPUF17.csv')\n",
    "\n",
    "    columns_to_keep = [\"HAD_CPOX\",\"P_NUMVRC\"]\n",
    "\n",
    "    df = df[columns_to_keep].dropna()\n",
    "\n",
    "    # Remove all data with \"HAD_CPOX\" = 77\n",
    "    df = df[df[\"HAD_CPOX\"] != 77]\n",
    "\n",
    "\n",
    "    new_df=pd.DataFrame({\"had_chickenpox_column\":df.iloc[:,0],\"num_chickenpox_vaccine_column\":df.iloc[:,1]})\n",
    "\n",
    "    corr, pval=stats.pearsonr(new_df[\"had_chickenpox_column\"],new_df[\"num_chickenpox_vaccine_column\"])\n",
    "\n",
    "    return corr\n",
    "    \n",
    "corr_chickenpox()"
   ]
  }
 ],
 "metadata": {
  "kernelspec": {
   "display_name": "python_prep",
   "language": "python",
   "name": "python_prep"
  },
  "language_info": {
   "codemirror_mode": {
    "name": "ipython",
    "version": 3
   },
   "file_extension": ".py",
   "mimetype": "text/x-python",
   "name": "python",
   "nbconvert_exporter": "python",
   "pygments_lexer": "ipython3",
   "version": "3.12.3"
  },
  "vscode": {
   "interpreter": {
    "hash": "e37262a048abd8621738cafecb2095b9e53550807265ef117f5fcc2a0c34ec0f"
   }
  }
 },
 "nbformat": 4,
 "nbformat_minor": 4
}
