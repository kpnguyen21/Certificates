{
 "cells": [
  {
   "cell_type": "markdown",
   "metadata": {},
   "source": [
    "# Assignment 3"
   ]
  },
  {
   "cell_type": "markdown",
   "metadata": {},
   "source": [
    "All questions are weighted the same in this assignment. This assignment requires more individual learning then the last one did - you are encouraged to check out the [pandas documentation](https://pandas.pydata.org/pandas-docs/stable/) to find functions or methods you might not have used yet, or ask questions on [Stack Overflow](https://stackoverflow.com/) and tag them as pandas and python related. All questions are worth the same number of points except question 1 which is worth 17% of the assignment grade.\n",
    "\n",
    "**Note:** Questions 2-13 rely on your question 1 answer."
   ]
  },
  {
   "cell_type": "code",
   "execution_count": 1,
   "metadata": {},
   "outputs": [],
   "source": [
    "import pandas as pd\n",
    "import numpy as np\n",
    "import matplotlib.pyplot as plt\n",
    "import re"
   ]
  },
  {
   "cell_type": "code",
   "execution_count": 2,
   "metadata": {},
   "outputs": [],
   "source": [
    "import warnings\n",
    "warnings.simplefilter(action='ignore', category=FutureWarning)\n",
    "pd.set_option(\"future.no_silent_downcasting\", True)"
   ]
  },
  {
   "cell_type": "markdown",
   "metadata": {},
   "source": [
    "## Question 1\n",
    "\n",
    "Load the energy data from the file ``assets/Energy Indicators.xls``, which is a list of indicators of energy supply and renewable electricity production from the United Nations for the year 2013, and should be put into a DataFrame with the variable name of **Energy**.\n",
    "\n",
    "Keep in mind that this is an Excel file, and not a comma separated values file. Also, make sure to exclude the footer and header information from the datafile. The first two columns are unneccessary, so you should get rid of them, and you should change the column labels so that the columns are:\n",
    "\n",
    "``['Country', 'Energy Supply', 'Energy Supply per Capita', '% Renewable]``\n",
    "\n",
    "Convert Energy Supply to gigajoules (Note: there are 1,000,000 gigajoules in a petajoule). For all countries which have missing data (e.g. data with \"...\") make sure this is reflected as np.NaN values.\n",
    "\n",
    "Rename the following list of countries (for use in later questions):\n",
    "\n",
    "`\"Republic of Korea\": \"South Korea\"`,\n",
    "\n",
    "`\"United States of America\": \"United States\"`,\n",
    "\n",
    "`\"United Kingdom of Great Britain and Northern Ireland\": \"United Kingdom\"`,\n",
    "\n",
    "`China, Hong Kong Special Administrative Region\": \"Hong Kong\"`\n",
    "\n",
    "\n",
    "There are also several countries with parenthesis in their name. Be sure to remove these, e.g. `'Bolivia (Plurinational State of)'` should be `'Bolivia'`.\n",
    "\n",
    "Next, load the GDP data from the file `assets/world_bank.csv`, which is a csv containing countries' GDP from 1960 to 2015 from World Bank. Call this DataFrame GDP.\n",
    "\n",
    "Make sure to skip the header, and rename the following list of countries:\n",
    "\n",
    "`\"Korea, Rep.\": \"South Korea\"`,\n",
    "\n",
    "`\"Iran, Islamic Rep.\": \"Iran\"`,\n",
    "\n",
    "`\"Hong Kong SAR, China\": \"Hong Kong\"`\n",
    "\n",
    "Finally, load the Sciamgo Journal and Country Rank data for Energy Engineering and Power Technology from the file `assets/scimagojr-3.xlsx`, which ranks countries based on their journal contributions in the aforementioned area. Call this DataFrame **ScimEn**.\n",
    "\n",
    "Join the three datasets: GDP, Energy, and ScimEn into a new dataset (using the intersection of country names). Use only the last 10 years (2006-2015) of GDP data and only the top 15 countries by Scimagojr 'Rank' (Rank 1 through 15).\n",
    "\n",
    "The index of this DataFrame should be the name of the country, and the columns should be `['Rank', 'Documents', 'Citable documents', 'Citations', 'Self-citations', 'Citations per document', 'H index', 'Energy Supply', 'Energy Supply per Capita', '% Renewable', '2006', '2007', '2008', '2009', '2010', '2011', '2012', '2013', '2014', '2015']`.\n",
    "\n",
    "*This function should return a DataFrame with 20 columns and 15 entries, and the rows of the DataFrame should be sorted by \"Rank\".*"
   ]
  },
  {
   "cell_type": "code",
   "execution_count": 3,
   "metadata": {},
   "outputs": [],
   "source": [
    "Energy = pd.read_excel(\"assets/Energy Indicators.xls\",usecols=\"C:F\")\n",
    "Energy = Energy[17:244]\n",
    "Energy.columns = ['Country', 'Energy Supply', 'Energy Supply per Capita', '% Renewable']\n",
    "Energy = Energy.replace('...', np.nan)\n",
    "Energy['Energy Supply'] = Energy['Energy Supply']*1000000\n",
    "\n",
    "Energy['Country'] = Energy['Country'].str.split(r'[\\d]+$').str[0]\n",
    "correct_country = {\"Republic of Korea\": \"South Korea\", \"United States of America\": \"United States\", \n",
    "                       \"United Kingdom of Great Britain and Northern Ireland\": \"United Kingdom\", \n",
    "                       \"China, Hong Kong Special Administrative Region\": \"Hong Kong\"}\n",
    "\n",
    "Energy.replace({'Country':correct_country},inplace=True)\n",
    "\n",
    "Energy['Country'] = Energy['Country'].str.split(r'[\\(\\)]').str[0]\n",
    "Energy['Country'] = Energy['Country'].str.rstrip()\n",
    "\n",
    "#---------------------------------------------------------\n",
    "# Load GDP\n",
    "GDP = pd.read_csv(\"assets/world_bank.csv\",skiprows=4)\n",
    "GDP = GDP.rename(columns={'Country Name':'Country'})\n",
    "#print(GDP.columns)\n",
    "\n",
    "GDP_correct_country = {\"Korea, Rep.\": \"South Korea\",  \"Iran, Islamic Rep.\": \"Iran\", \"Hong Kong SAR, China\": \"Hong Kong\"}\n",
    "\n",
    "GDP.replace({'Country':GDP_correct_country},inplace=True)\n",
    "\n",
    "columns_to_keep = ['Country','2006','2007','2008','2009','2010','2011',\n",
    "             '2012','2013','2014','2015']\n",
    "GDP_last10 = GDP[columns_to_keep]\n",
    "\n",
    "#---------------------------------------------------------\n",
    "# Load ScimEn\n",
    "\n",
    "ScimEn = pd.read_excel('assets/scimagojr-3.xlsx')\n",
    "\n",
    "ScimEn = ScimEn.sort_values(by=['Rank'])"
   ]
  },
  {
   "cell_type": "code",
   "execution_count": 4,
   "metadata": {},
   "outputs": [
    {
     "data": {
      "text/html": [
       "<div>\n",
       "<style scoped>\n",
       "    .dataframe tbody tr th:only-of-type {\n",
       "        vertical-align: middle;\n",
       "    }\n",
       "\n",
       "    .dataframe tbody tr th {\n",
       "        vertical-align: top;\n",
       "    }\n",
       "\n",
       "    .dataframe thead th {\n",
       "        text-align: right;\n",
       "    }\n",
       "</style>\n",
       "<table border=\"1\" class=\"dataframe\">\n",
       "  <thead>\n",
       "    <tr style=\"text-align: right;\">\n",
       "      <th></th>\n",
       "      <th>Rank</th>\n",
       "      <th>Documents</th>\n",
       "      <th>Citable documents</th>\n",
       "      <th>Citations</th>\n",
       "      <th>Self-citations</th>\n",
       "      <th>Citations per document</th>\n",
       "      <th>H index</th>\n",
       "      <th>Energy Supply</th>\n",
       "      <th>Energy Supply per Capita</th>\n",
       "      <th>% Renewable</th>\n",
       "      <th>2006</th>\n",
       "      <th>2007</th>\n",
       "      <th>2008</th>\n",
       "      <th>2009</th>\n",
       "      <th>2010</th>\n",
       "      <th>2011</th>\n",
       "      <th>2012</th>\n",
       "      <th>2013</th>\n",
       "      <th>2014</th>\n",
       "      <th>2015</th>\n",
       "    </tr>\n",
       "    <tr>\n",
       "      <th>Country</th>\n",
       "      <th></th>\n",
       "      <th></th>\n",
       "      <th></th>\n",
       "      <th></th>\n",
       "      <th></th>\n",
       "      <th></th>\n",
       "      <th></th>\n",
       "      <th></th>\n",
       "      <th></th>\n",
       "      <th></th>\n",
       "      <th></th>\n",
       "      <th></th>\n",
       "      <th></th>\n",
       "      <th></th>\n",
       "      <th></th>\n",
       "      <th></th>\n",
       "      <th></th>\n",
       "      <th></th>\n",
       "      <th></th>\n",
       "      <th></th>\n",
       "    </tr>\n",
       "  </thead>\n",
       "  <tbody>\n",
       "    <tr>\n",
       "      <th>China</th>\n",
       "      <td>1</td>\n",
       "      <td>127050</td>\n",
       "      <td>126767</td>\n",
       "      <td>597237</td>\n",
       "      <td>411683</td>\n",
       "      <td>4.70</td>\n",
       "      <td>138</td>\n",
       "      <td>127191000000</td>\n",
       "      <td>93</td>\n",
       "      <td>19.75491</td>\n",
       "      <td>3.992330e+12</td>\n",
       "      <td>4.559040e+12</td>\n",
       "      <td>4.997780e+12</td>\n",
       "      <td>5.459250e+12</td>\n",
       "      <td>6.039660e+12</td>\n",
       "      <td>6.612490e+12</td>\n",
       "      <td>7.124980e+12</td>\n",
       "      <td>7.672450e+12</td>\n",
       "      <td>8.230120e+12</td>\n",
       "      <td>8.798000e+12</td>\n",
       "    </tr>\n",
       "    <tr>\n",
       "      <th>United States</th>\n",
       "      <td>2</td>\n",
       "      <td>96661</td>\n",
       "      <td>94747</td>\n",
       "      <td>792274</td>\n",
       "      <td>265436</td>\n",
       "      <td>8.20</td>\n",
       "      <td>230</td>\n",
       "      <td>90838000000</td>\n",
       "      <td>286</td>\n",
       "      <td>11.57098</td>\n",
       "      <td>1.479230e+13</td>\n",
       "      <td>1.505540e+13</td>\n",
       "      <td>1.501150e+13</td>\n",
       "      <td>1.459480e+13</td>\n",
       "      <td>1.496440e+13</td>\n",
       "      <td>1.520400e+13</td>\n",
       "      <td>1.554220e+13</td>\n",
       "      <td>1.577370e+13</td>\n",
       "      <td>1.615660e+13</td>\n",
       "      <td>1.654860e+13</td>\n",
       "    </tr>\n",
       "    <tr>\n",
       "      <th>Japan</th>\n",
       "      <td>3</td>\n",
       "      <td>30504</td>\n",
       "      <td>30287</td>\n",
       "      <td>223024</td>\n",
       "      <td>61554</td>\n",
       "      <td>7.31</td>\n",
       "      <td>134</td>\n",
       "      <td>18984000000</td>\n",
       "      <td>149</td>\n",
       "      <td>10.23282</td>\n",
       "      <td>5.496540e+12</td>\n",
       "      <td>5.617040e+12</td>\n",
       "      <td>5.558530e+12</td>\n",
       "      <td>5.251310e+12</td>\n",
       "      <td>5.498720e+12</td>\n",
       "      <td>5.473740e+12</td>\n",
       "      <td>5.569100e+12</td>\n",
       "      <td>5.644660e+12</td>\n",
       "      <td>5.642880e+12</td>\n",
       "      <td>5.669560e+12</td>\n",
       "    </tr>\n",
       "    <tr>\n",
       "      <th>United Kingdom</th>\n",
       "      <td>4</td>\n",
       "      <td>20944</td>\n",
       "      <td>20357</td>\n",
       "      <td>206091</td>\n",
       "      <td>37874</td>\n",
       "      <td>9.84</td>\n",
       "      <td>139</td>\n",
       "      <td>7920000000</td>\n",
       "      <td>124</td>\n",
       "      <td>10.60047</td>\n",
       "      <td>2.419630e+12</td>\n",
       "      <td>2.482200e+12</td>\n",
       "      <td>2.470610e+12</td>\n",
       "      <td>2.367050e+12</td>\n",
       "      <td>2.403500e+12</td>\n",
       "      <td>2.450910e+12</td>\n",
       "      <td>2.479810e+12</td>\n",
       "      <td>2.533370e+12</td>\n",
       "      <td>2.605640e+12</td>\n",
       "      <td>2.666330e+12</td>\n",
       "    </tr>\n",
       "    <tr>\n",
       "      <th>Russian Federation</th>\n",
       "      <td>5</td>\n",
       "      <td>18534</td>\n",
       "      <td>18301</td>\n",
       "      <td>34266</td>\n",
       "      <td>12422</td>\n",
       "      <td>1.85</td>\n",
       "      <td>57</td>\n",
       "      <td>30709000000</td>\n",
       "      <td>214</td>\n",
       "      <td>17.28868</td>\n",
       "      <td>1.385790e+12</td>\n",
       "      <td>1.504070e+12</td>\n",
       "      <td>1.583000e+12</td>\n",
       "      <td>1.459200e+12</td>\n",
       "      <td>1.524920e+12</td>\n",
       "      <td>1.589940e+12</td>\n",
       "      <td>1.645880e+12</td>\n",
       "      <td>1.666930e+12</td>\n",
       "      <td>1.678710e+12</td>\n",
       "      <td>1.616150e+12</td>\n",
       "    </tr>\n",
       "    <tr>\n",
       "      <th>Canada</th>\n",
       "      <td>6</td>\n",
       "      <td>17899</td>\n",
       "      <td>17620</td>\n",
       "      <td>215003</td>\n",
       "      <td>40930</td>\n",
       "      <td>12.01</td>\n",
       "      <td>149</td>\n",
       "      <td>10431000000</td>\n",
       "      <td>296</td>\n",
       "      <td>61.94543</td>\n",
       "      <td>1.564470e+12</td>\n",
       "      <td>1.596740e+12</td>\n",
       "      <td>1.612710e+12</td>\n",
       "      <td>1.565140e+12</td>\n",
       "      <td>1.613410e+12</td>\n",
       "      <td>1.664090e+12</td>\n",
       "      <td>1.693130e+12</td>\n",
       "      <td>1.730690e+12</td>\n",
       "      <td>1.773490e+12</td>\n",
       "      <td>1.792610e+12</td>\n",
       "    </tr>\n",
       "    <tr>\n",
       "      <th>Germany</th>\n",
       "      <td>7</td>\n",
       "      <td>17027</td>\n",
       "      <td>16831</td>\n",
       "      <td>140566</td>\n",
       "      <td>27426</td>\n",
       "      <td>8.26</td>\n",
       "      <td>126</td>\n",
       "      <td>13261000000</td>\n",
       "      <td>165</td>\n",
       "      <td>17.90153</td>\n",
       "      <td>3.332890e+12</td>\n",
       "      <td>3.441560e+12</td>\n",
       "      <td>3.478810e+12</td>\n",
       "      <td>3.283340e+12</td>\n",
       "      <td>3.417300e+12</td>\n",
       "      <td>3.542370e+12</td>\n",
       "      <td>3.556720e+12</td>\n",
       "      <td>3.567320e+12</td>\n",
       "      <td>3.624390e+12</td>\n",
       "      <td>3.685560e+12</td>\n",
       "    </tr>\n",
       "    <tr>\n",
       "      <th>India</th>\n",
       "      <td>8</td>\n",
       "      <td>15005</td>\n",
       "      <td>14841</td>\n",
       "      <td>128763</td>\n",
       "      <td>37209</td>\n",
       "      <td>8.58</td>\n",
       "      <td>115</td>\n",
       "      <td>33195000000</td>\n",
       "      <td>26</td>\n",
       "      <td>14.96908</td>\n",
       "      <td>1.265890e+12</td>\n",
       "      <td>1.374870e+12</td>\n",
       "      <td>1.428360e+12</td>\n",
       "      <td>1.549480e+12</td>\n",
       "      <td>1.708460e+12</td>\n",
       "      <td>1.821870e+12</td>\n",
       "      <td>1.924240e+12</td>\n",
       "      <td>2.051980e+12</td>\n",
       "      <td>2.200620e+12</td>\n",
       "      <td>2.367210e+12</td>\n",
       "    </tr>\n",
       "    <tr>\n",
       "      <th>France</th>\n",
       "      <td>9</td>\n",
       "      <td>13153</td>\n",
       "      <td>12973</td>\n",
       "      <td>130632</td>\n",
       "      <td>28601</td>\n",
       "      <td>9.93</td>\n",
       "      <td>114</td>\n",
       "      <td>10597000000</td>\n",
       "      <td>166</td>\n",
       "      <td>17.02028</td>\n",
       "      <td>2.607840e+12</td>\n",
       "      <td>2.669420e+12</td>\n",
       "      <td>2.674640e+12</td>\n",
       "      <td>2.595970e+12</td>\n",
       "      <td>2.646990e+12</td>\n",
       "      <td>2.702030e+12</td>\n",
       "      <td>2.706970e+12</td>\n",
       "      <td>2.722570e+12</td>\n",
       "      <td>2.729630e+12</td>\n",
       "      <td>2.761190e+12</td>\n",
       "    </tr>\n",
       "    <tr>\n",
       "      <th>South Korea</th>\n",
       "      <td>10</td>\n",
       "      <td>11983</td>\n",
       "      <td>11923</td>\n",
       "      <td>114675</td>\n",
       "      <td>22595</td>\n",
       "      <td>9.57</td>\n",
       "      <td>104</td>\n",
       "      <td>11007000000</td>\n",
       "      <td>221</td>\n",
       "      <td>2.279353</td>\n",
       "      <td>9.410200e+11</td>\n",
       "      <td>9.924320e+11</td>\n",
       "      <td>1.020510e+12</td>\n",
       "      <td>1.027730e+12</td>\n",
       "      <td>1.094500e+12</td>\n",
       "      <td>1.134800e+12</td>\n",
       "      <td>1.160810e+12</td>\n",
       "      <td>1.194430e+12</td>\n",
       "      <td>1.234340e+12</td>\n",
       "      <td>1.266580e+12</td>\n",
       "    </tr>\n",
       "    <tr>\n",
       "      <th>Italy</th>\n",
       "      <td>11</td>\n",
       "      <td>10964</td>\n",
       "      <td>10794</td>\n",
       "      <td>111850</td>\n",
       "      <td>26661</td>\n",
       "      <td>10.20</td>\n",
       "      <td>106</td>\n",
       "      <td>6530000000</td>\n",
       "      <td>109</td>\n",
       "      <td>33.66723</td>\n",
       "      <td>2.202170e+12</td>\n",
       "      <td>2.234630e+12</td>\n",
       "      <td>2.211150e+12</td>\n",
       "      <td>2.089940e+12</td>\n",
       "      <td>2.125180e+12</td>\n",
       "      <td>2.137440e+12</td>\n",
       "      <td>2.077180e+12</td>\n",
       "      <td>2.040870e+12</td>\n",
       "      <td>2.033870e+12</td>\n",
       "      <td>2.049320e+12</td>\n",
       "    </tr>\n",
       "    <tr>\n",
       "      <th>Spain</th>\n",
       "      <td>12</td>\n",
       "      <td>9428</td>\n",
       "      <td>9330</td>\n",
       "      <td>123336</td>\n",
       "      <td>23964</td>\n",
       "      <td>13.08</td>\n",
       "      <td>115</td>\n",
       "      <td>4923000000</td>\n",
       "      <td>106</td>\n",
       "      <td>37.96859</td>\n",
       "      <td>1.414820e+12</td>\n",
       "      <td>1.468150e+12</td>\n",
       "      <td>1.484530e+12</td>\n",
       "      <td>1.431480e+12</td>\n",
       "      <td>1.431670e+12</td>\n",
       "      <td>1.417350e+12</td>\n",
       "      <td>1.380220e+12</td>\n",
       "      <td>1.357140e+12</td>\n",
       "      <td>1.375610e+12</td>\n",
       "      <td>1.419820e+12</td>\n",
       "    </tr>\n",
       "    <tr>\n",
       "      <th>Iran</th>\n",
       "      <td>13</td>\n",
       "      <td>8896</td>\n",
       "      <td>8819</td>\n",
       "      <td>57470</td>\n",
       "      <td>19125</td>\n",
       "      <td>6.46</td>\n",
       "      <td>72</td>\n",
       "      <td>9172000000</td>\n",
       "      <td>119</td>\n",
       "      <td>5.707721</td>\n",
       "      <td>3.895520e+11</td>\n",
       "      <td>4.250650e+11</td>\n",
       "      <td>4.289910e+11</td>\n",
       "      <td>4.389210e+11</td>\n",
       "      <td>4.677900e+11</td>\n",
       "      <td>4.853310e+11</td>\n",
       "      <td>4.532570e+11</td>\n",
       "      <td>4.445930e+11</td>\n",
       "      <td>4.639030e+11</td>\n",
       "      <td>NaN</td>\n",
       "    </tr>\n",
       "    <tr>\n",
       "      <th>Australia</th>\n",
       "      <td>14</td>\n",
       "      <td>8831</td>\n",
       "      <td>8725</td>\n",
       "      <td>90765</td>\n",
       "      <td>15606</td>\n",
       "      <td>10.28</td>\n",
       "      <td>107</td>\n",
       "      <td>5386000000</td>\n",
       "      <td>231</td>\n",
       "      <td>11.81081</td>\n",
       "      <td>1.021940e+12</td>\n",
       "      <td>1.060340e+12</td>\n",
       "      <td>1.099640e+12</td>\n",
       "      <td>1.119650e+12</td>\n",
       "      <td>1.142250e+12</td>\n",
       "      <td>1.169430e+12</td>\n",
       "      <td>1.211910e+12</td>\n",
       "      <td>1.241480e+12</td>\n",
       "      <td>1.272520e+12</td>\n",
       "      <td>1.301250e+12</td>\n",
       "    </tr>\n",
       "    <tr>\n",
       "      <th>Brazil</th>\n",
       "      <td>15</td>\n",
       "      <td>8668</td>\n",
       "      <td>8596</td>\n",
       "      <td>60702</td>\n",
       "      <td>14396</td>\n",
       "      <td>7.00</td>\n",
       "      <td>86</td>\n",
       "      <td>12149000000</td>\n",
       "      <td>59</td>\n",
       "      <td>69.64803</td>\n",
       "      <td>1.845080e+12</td>\n",
       "      <td>1.957120e+12</td>\n",
       "      <td>2.056810e+12</td>\n",
       "      <td>2.054210e+12</td>\n",
       "      <td>2.208870e+12</td>\n",
       "      <td>2.295240e+12</td>\n",
       "      <td>2.339210e+12</td>\n",
       "      <td>2.409740e+12</td>\n",
       "      <td>2.412230e+12</td>\n",
       "      <td>2.319420e+12</td>\n",
       "    </tr>\n",
       "  </tbody>\n",
       "</table>\n",
       "</div>"
      ],
      "text/plain": [
       "                    Rank  Documents  Citable documents  Citations  \\\n",
       "Country                                                             \n",
       "China                  1     127050             126767     597237   \n",
       "United States          2      96661              94747     792274   \n",
       "Japan                  3      30504              30287     223024   \n",
       "United Kingdom         4      20944              20357     206091   \n",
       "Russian Federation     5      18534              18301      34266   \n",
       "Canada                 6      17899              17620     215003   \n",
       "Germany                7      17027              16831     140566   \n",
       "India                  8      15005              14841     128763   \n",
       "France                 9      13153              12973     130632   \n",
       "South Korea           10      11983              11923     114675   \n",
       "Italy                 11      10964              10794     111850   \n",
       "Spain                 12       9428               9330     123336   \n",
       "Iran                  13       8896               8819      57470   \n",
       "Australia             14       8831               8725      90765   \n",
       "Brazil                15       8668               8596      60702   \n",
       "\n",
       "                    Self-citations  Citations per document  H index  \\\n",
       "Country                                                               \n",
       "China                       411683                    4.70      138   \n",
       "United States               265436                    8.20      230   \n",
       "Japan                        61554                    7.31      134   \n",
       "United Kingdom               37874                    9.84      139   \n",
       "Russian Federation           12422                    1.85       57   \n",
       "Canada                       40930                   12.01      149   \n",
       "Germany                      27426                    8.26      126   \n",
       "India                        37209                    8.58      115   \n",
       "France                       28601                    9.93      114   \n",
       "South Korea                  22595                    9.57      104   \n",
       "Italy                        26661                   10.20      106   \n",
       "Spain                        23964                   13.08      115   \n",
       "Iran                         19125                    6.46       72   \n",
       "Australia                    15606                   10.28      107   \n",
       "Brazil                       14396                    7.00       86   \n",
       "\n",
       "                   Energy Supply Energy Supply per Capita % Renewable  \\\n",
       "Country                                                                 \n",
       "China               127191000000                       93    19.75491   \n",
       "United States        90838000000                      286    11.57098   \n",
       "Japan                18984000000                      149    10.23282   \n",
       "United Kingdom        7920000000                      124    10.60047   \n",
       "Russian Federation   30709000000                      214    17.28868   \n",
       "Canada               10431000000                      296    61.94543   \n",
       "Germany              13261000000                      165    17.90153   \n",
       "India                33195000000                       26    14.96908   \n",
       "France               10597000000                      166    17.02028   \n",
       "South Korea          11007000000                      221    2.279353   \n",
       "Italy                 6530000000                      109    33.66723   \n",
       "Spain                 4923000000                      106    37.96859   \n",
       "Iran                  9172000000                      119    5.707721   \n",
       "Australia             5386000000                      231    11.81081   \n",
       "Brazil               12149000000                       59    69.64803   \n",
       "\n",
       "                            2006          2007          2008          2009  \\\n",
       "Country                                                                      \n",
       "China               3.992330e+12  4.559040e+12  4.997780e+12  5.459250e+12   \n",
       "United States       1.479230e+13  1.505540e+13  1.501150e+13  1.459480e+13   \n",
       "Japan               5.496540e+12  5.617040e+12  5.558530e+12  5.251310e+12   \n",
       "United Kingdom      2.419630e+12  2.482200e+12  2.470610e+12  2.367050e+12   \n",
       "Russian Federation  1.385790e+12  1.504070e+12  1.583000e+12  1.459200e+12   \n",
       "Canada              1.564470e+12  1.596740e+12  1.612710e+12  1.565140e+12   \n",
       "Germany             3.332890e+12  3.441560e+12  3.478810e+12  3.283340e+12   \n",
       "India               1.265890e+12  1.374870e+12  1.428360e+12  1.549480e+12   \n",
       "France              2.607840e+12  2.669420e+12  2.674640e+12  2.595970e+12   \n",
       "South Korea         9.410200e+11  9.924320e+11  1.020510e+12  1.027730e+12   \n",
       "Italy               2.202170e+12  2.234630e+12  2.211150e+12  2.089940e+12   \n",
       "Spain               1.414820e+12  1.468150e+12  1.484530e+12  1.431480e+12   \n",
       "Iran                3.895520e+11  4.250650e+11  4.289910e+11  4.389210e+11   \n",
       "Australia           1.021940e+12  1.060340e+12  1.099640e+12  1.119650e+12   \n",
       "Brazil              1.845080e+12  1.957120e+12  2.056810e+12  2.054210e+12   \n",
       "\n",
       "                            2010          2011          2012          2013  \\\n",
       "Country                                                                      \n",
       "China               6.039660e+12  6.612490e+12  7.124980e+12  7.672450e+12   \n",
       "United States       1.496440e+13  1.520400e+13  1.554220e+13  1.577370e+13   \n",
       "Japan               5.498720e+12  5.473740e+12  5.569100e+12  5.644660e+12   \n",
       "United Kingdom      2.403500e+12  2.450910e+12  2.479810e+12  2.533370e+12   \n",
       "Russian Federation  1.524920e+12  1.589940e+12  1.645880e+12  1.666930e+12   \n",
       "Canada              1.613410e+12  1.664090e+12  1.693130e+12  1.730690e+12   \n",
       "Germany             3.417300e+12  3.542370e+12  3.556720e+12  3.567320e+12   \n",
       "India               1.708460e+12  1.821870e+12  1.924240e+12  2.051980e+12   \n",
       "France              2.646990e+12  2.702030e+12  2.706970e+12  2.722570e+12   \n",
       "South Korea         1.094500e+12  1.134800e+12  1.160810e+12  1.194430e+12   \n",
       "Italy               2.125180e+12  2.137440e+12  2.077180e+12  2.040870e+12   \n",
       "Spain               1.431670e+12  1.417350e+12  1.380220e+12  1.357140e+12   \n",
       "Iran                4.677900e+11  4.853310e+11  4.532570e+11  4.445930e+11   \n",
       "Australia           1.142250e+12  1.169430e+12  1.211910e+12  1.241480e+12   \n",
       "Brazil              2.208870e+12  2.295240e+12  2.339210e+12  2.409740e+12   \n",
       "\n",
       "                            2014          2015  \n",
       "Country                                         \n",
       "China               8.230120e+12  8.798000e+12  \n",
       "United States       1.615660e+13  1.654860e+13  \n",
       "Japan               5.642880e+12  5.669560e+12  \n",
       "United Kingdom      2.605640e+12  2.666330e+12  \n",
       "Russian Federation  1.678710e+12  1.616150e+12  \n",
       "Canada              1.773490e+12  1.792610e+12  \n",
       "Germany             3.624390e+12  3.685560e+12  \n",
       "India               2.200620e+12  2.367210e+12  \n",
       "France              2.729630e+12  2.761190e+12  \n",
       "South Korea         1.234340e+12  1.266580e+12  \n",
       "Italy               2.033870e+12  2.049320e+12  \n",
       "Spain               1.375610e+12  1.419820e+12  \n",
       "Iran                4.639030e+11           NaN  \n",
       "Australia           1.272520e+12  1.301250e+12  \n",
       "Brazil              2.412230e+12  2.319420e+12  "
      ]
     },
     "execution_count": 4,
     "metadata": {},
     "output_type": "execute_result"
    }
   ],
   "source": [
    "df1 = pd.merge(ScimEn[0:15],Energy,on='Country')\n",
    "df2 = GDP[columns_to_keep]\n",
    "df = pd.merge(df1,df2,on='Country')\n",
    "df = df.set_index('Country')\n",
    "\n",
    "def answer_one():\n",
    "    return df\n",
    "\n",
    "answer_one()"
   ]
  },
  {
   "cell_type": "markdown",
   "metadata": {},
   "source": [
    "## Question 2\n",
    "\n",
    "The previous question joined three datasets then reduced this to just the top 15 entries. When you joined the datasets, but before you reduced this to the top 15 items, how many entries did you lose?\n",
    "\n",
    "*This function should return a single number.*"
   ]
  },
  {
   "cell_type": "code",
   "execution_count": 5,
   "metadata": {},
   "outputs": [
    {
     "data": {
      "text/html": [
       "<svg width=\"800\" height=\"300\">\n",
       "  <circle cx=\"150\" cy=\"180\" r=\"80\" fill-opacity=\"0.2\" stroke=\"black\" stroke-width=\"2\" fill=\"blue\" />\n",
       "  <circle cx=\"200\" cy=\"100\" r=\"80\" fill-opacity=\"0.2\" stroke=\"black\" stroke-width=\"2\" fill=\"red\" />\n",
       "  <circle cx=\"100\" cy=\"100\" r=\"80\" fill-opacity=\"0.2\" stroke=\"black\" stroke-width=\"2\" fill=\"green\" />\n",
       "  <line x1=\"150\" y1=\"125\" x2=\"300\" y2=\"150\" stroke=\"black\" stroke-width=\"2\" fill=\"black\" stroke-dasharray=\"5,3\"/>\n",
       "  <text x=\"300\" y=\"165\" font-family=\"Verdana\" font-size=\"35\">Everything but this!</text>\n",
       "</svg>\n"
      ],
      "text/plain": [
       "<IPython.core.display.HTML object>"
      ]
     },
     "metadata": {},
     "output_type": "display_data"
    }
   ],
   "source": [
    "%%HTML\n",
    "<svg width=\"800\" height=\"300\">\n",
    "  <circle cx=\"150\" cy=\"180\" r=\"80\" fill-opacity=\"0.2\" stroke=\"black\" stroke-width=\"2\" fill=\"blue\" />\n",
    "  <circle cx=\"200\" cy=\"100\" r=\"80\" fill-opacity=\"0.2\" stroke=\"black\" stroke-width=\"2\" fill=\"red\" />\n",
    "  <circle cx=\"100\" cy=\"100\" r=\"80\" fill-opacity=\"0.2\" stroke=\"black\" stroke-width=\"2\" fill=\"green\" />\n",
    "  <line x1=\"150\" y1=\"125\" x2=\"300\" y2=\"150\" stroke=\"black\" stroke-width=\"2\" fill=\"black\" stroke-dasharray=\"5,3\"/>\n",
    "  <text x=\"300\" y=\"165\" font-family=\"Verdana\" font-size=\"35\">Everything but this!</text>\n",
    "</svg>"
   ]
  },
  {
   "cell_type": "code",
   "execution_count": 6,
   "metadata": {},
   "outputs": [
    {
     "data": {
      "text/plain": [
       "158"
      ]
     },
     "execution_count": 6,
     "metadata": {},
     "output_type": "execute_result"
    }
   ],
   "source": [
    "def answer_two():\n",
    "    # YOUR CODE HERE\n",
    "\n",
    "    df_union = pd.merge(pd.merge(ScimEn,Energy,how='outer',on='Country'),GDP,how='outer',on='Country')\n",
    "    df_intersection = pd.merge(pd.merge(ScimEn,Energy,how='inner',on='Country'),GDP,on='Country')\n",
    "    return (len(df_union)-len(df_intersection))\n",
    "\n",
    "answer_two()"
   ]
  },
  {
   "cell_type": "markdown",
   "metadata": {},
   "source": [
    "## Question 3\n",
    "\n",
    "What are the top 15 countries for average GDP over the last 10 years?\n",
    "\n",
    "*This function should return a Series named `avgGDP` with 15 countries and their average GDP sorted in descending order.*"
   ]
  },
  {
   "cell_type": "code",
   "execution_count": 7,
   "metadata": {},
   "outputs": [
    {
     "data": {
      "text/plain": [
       "Country\n",
       "China                 6.348610e+12\n",
       "United States         1.536435e+13\n",
       "Japan                 5.542208e+12\n",
       "United Kingdom        2.487905e+12\n",
       "Russian Federation    1.565459e+12\n",
       "Canada                1.660648e+12\n",
       "Germany               3.493026e+12\n",
       "India                 1.769298e+12\n",
       "France                2.681725e+12\n",
       "South Korea           1.106715e+12\n",
       "Italy                 2.120175e+12\n",
       "Spain                 1.418079e+12\n",
       "Iran                  4.441559e+11\n",
       "Australia             1.164041e+12\n",
       "Brazil                2.189793e+12\n",
       "dtype: float64"
      ]
     },
     "execution_count": 7,
     "metadata": {},
     "output_type": "execute_result"
    }
   ],
   "source": [
    "def answer_three():\n",
    "    # YOUR CODE HERE\n",
    "    df3 = answer_one()\n",
    "    \n",
    "    cols = ['2006','2007','2008','2009','2010','2011',\n",
    "         '2012','2013','2014','2015']\n",
    "    avgGDP = df3[cols].mean(axis=1)\n",
    "\n",
    "    return avgGDP\n",
    "\n",
    "answer_three()"
   ]
  },
  {
   "cell_type": "markdown",
   "metadata": {},
   "source": [
    "## Question 4\n",
    "By how much had the GDP changed over the 10 year span for the country with the 6th largest average GDP?\n",
    "\n",
    "*This function should return a single number.*"
   ]
  },
  {
   "cell_type": "code",
   "execution_count": 8,
   "metadata": {},
   "outputs": [
    {
     "data": {
      "text/plain": [
       "246700000000.0"
      ]
     },
     "execution_count": 8,
     "metadata": {},
     "output_type": "execute_result"
    }
   ],
   "source": [
    "def answer_four():\n",
    "    # YOUR CODE HERE\n",
    "    cols = ['2006','2007','2008','2009','2010','2011',\n",
    "         '2012','2013','2014','2015']\n",
    "    \n",
    "    df4 = answer_one()[cols]\n",
    "\n",
    "    temp = pd.DataFrame(answer_three())\n",
    "    temp = temp.reset_index()\n",
    "    temp.columns = ['Country', 'avgGDP']\n",
    "    df4 = pd.merge(df4, temp, how='inner', on = 'Country')\n",
    "    df4 = df4.sort_values(by=['avgGDP'],ascending=False) \n",
    "    \n",
    "    GDP_diff = df4.iloc[5]['2015']-df4.iloc[5]['2006']\n",
    "\n",
    "    return GDP_diff\n",
    "\n",
    "answer_four()"
   ]
  },
  {
   "cell_type": "markdown",
   "metadata": {},
   "source": [
    "## Question 5\n",
    "What is the mean energy supply per capita?\n",
    "\n",
    "*This function should return a single number.*"
   ]
  },
  {
   "cell_type": "code",
   "execution_count": 9,
   "metadata": {},
   "outputs": [
    {
     "data": {
      "text/plain": [
       "157.6"
      ]
     },
     "execution_count": 9,
     "metadata": {},
     "output_type": "execute_result"
    }
   ],
   "source": [
    "def answer_five():\n",
    "    # YOUR CODE HERE\n",
    "    df5 = answer_one()\n",
    "    return df5['Energy Supply per Capita'].mean()\n",
    "\n",
    "answer_five()"
   ]
  },
  {
   "cell_type": "markdown",
   "metadata": {},
   "source": [
    "## Question 6\n",
    "What country has the maximum % Renewable and what is the percentage?\n",
    "\n",
    "*This function should return a tuple with the name of the country and the percentage.*"
   ]
  },
  {
   "cell_type": "code",
   "execution_count": 10,
   "metadata": {},
   "outputs": [
    {
     "data": {
      "text/plain": [
       "('Brazil', 69.64803)"
      ]
     },
     "execution_count": 10,
     "metadata": {},
     "output_type": "execute_result"
    }
   ],
   "source": [
    "def answer_six():\n",
    "    # YOUR CODE HERE\n",
    "    df6 = answer_one()\n",
    "    df6 = df6.reset_index()\n",
    "    cols6 = ['Country','% Renewable']\n",
    "    df6 = df6[cols6]\n",
    "    df6 = df6.sort_values(by=['% Renewable'], ascending=False)\n",
    "    \n",
    "    return (df6['Country'].iloc[0],df6['% Renewable'].iloc[0])\n",
    "\n",
    "\n",
    "answer_six()"
   ]
  },
  {
   "cell_type": "markdown",
   "metadata": {},
   "source": [
    "## Question 7\n",
    "Create a new column that is the ratio of Self-Citations to Total Citations. What is the maximum value for this new column, and what country has the highest ratio?\n",
    "\n",
    "*This function should return a tuple with the name of the country and the ratio.*"
   ]
  },
  {
   "cell_type": "code",
   "execution_count": 11,
   "metadata": {},
   "outputs": [
    {
     "data": {
      "text/plain": [
       "('China', 0.6893126179389422)"
      ]
     },
     "execution_count": 11,
     "metadata": {},
     "output_type": "execute_result"
    }
   ],
   "source": [
    "def answer_seven():\n",
    "    # YOUR CODE HERE\n",
    "    df = answer_one()\n",
    "    df['Ratio Citation'] = df['Self-citations']/df['Citations']\n",
    "    idx7 = df['Ratio Citation'].argmax()\n",
    "    \n",
    "    return (df.index[idx7],df.iloc[idx7]['Ratio Citation'])\n",
    "    \n",
    "answer_seven()"
   ]
  },
  {
   "cell_type": "markdown",
   "metadata": {},
   "source": [
    "## Question 8\n",
    "Create a column that estimates the population using Energy Supply and Energy Supply per capita. What is the third most populous country according to this estimate?\n",
    "\n",
    "*This function should return the name of the country.*"
   ]
  },
  {
   "cell_type": "code",
   "execution_count": 12,
   "metadata": {},
   "outputs": [
    {
     "data": {
      "text/plain": [
       "'United States'"
      ]
     },
     "execution_count": 12,
     "metadata": {},
     "output_type": "execute_result"
    }
   ],
   "source": [
    "def answer_eight():\n",
    "    # YOUR CODE HERE\n",
    "    df['Population'] = df['Energy Supply']/df['Energy Supply per Capita']\n",
    "    df8 = df\n",
    "    \n",
    "    df8 = df8.sort_values(by=['Population'], ascending=False)\n",
    "    return df8.index[2]\n",
    "    \n",
    "answer_eight()"
   ]
  },
  {
   "cell_type": "markdown",
   "metadata": {},
   "source": [
    "## Question 9\n",
    "Create a column that estimates the number of citable documents per person. What is the correlation between the number of citable documents per capita and the energy supply per capita? Use the `.corr()` method, (Pearson's correlation).\n",
    "\n",
    "*This function should return a single number.*"
   ]
  },
  {
   "cell_type": "code",
   "execution_count": 13,
   "metadata": {},
   "outputs": [
    {
     "data": {
      "text/plain": [
       "0.7940010435442945"
      ]
     },
     "execution_count": 13,
     "metadata": {},
     "output_type": "execute_result"
    }
   ],
   "source": [
    "def answer_nine():\n",
    "    # YOUR CODE HERE\n",
    "\n",
    "    df['Citable documents per Capita'] = df['Citable documents']/df['Population']\n",
    "\n",
    "    df9 = df\n",
    "    cols9 = ['Citable documents per Capita','Energy Supply per Capita']\n",
    "    df9 = df9[cols9]\n",
    "    \n",
    "    corr = df9.corr()\n",
    "\n",
    "    return corr.iloc[0,1]\n",
    "    \n",
    "answer_nine()"
   ]
  },
  {
   "cell_type": "code",
   "execution_count": 14,
   "metadata": {},
   "outputs": [
    {
     "data": {
      "image/png": "[encoded data removed]",
      "text/plain": [
       "<Figure size 640x480 with 1 Axes>"
      ]
     },
     "metadata": {},
     "output_type": "display_data"
    }
   ],
   "source": [
    "def plot9():\n",
    "    \n",
    "    %matplotlib inline\n",
    "    \n",
    "    Top15 = answer_one()\n",
    "    Top15['PopEst'] = Top15['Energy Supply'] / Top15['Energy Supply per Capita']\n",
    "    Top15['Citable docs per Capita'] = Top15['Citable documents'] / Top15['PopEst']\n",
    "    Top15.plot(x='Citable docs per Capita', y='Energy Supply per Capita', kind='scatter', xlim=[0, 0.0006])\n",
    "\n",
    "plot9()"
   ]
  },
  {
   "cell_type": "markdown",
   "metadata": {},
   "source": [
    "## Question 10\n",
    "Create a new column with a 1 if the country's % Renewable value is at or above the median for all countries in the top 15, and a 0 if the country's % Renewable value is below the median.\n",
    "\n",
    "*This function should return a series named `HighRenew` whose index is the country name sorted in ascending order of rank.*"
   ]
  },
  {
   "cell_type": "code",
   "execution_count": 15,
   "metadata": {},
   "outputs": [
    {
     "data": {
      "text/plain": [
       "Country\n",
       "China                 1\n",
       "United States         0\n",
       "Japan                 0\n",
       "United Kingdom        0\n",
       "Russian Federation    1\n",
       "Canada                1\n",
       "Germany               1\n",
       "India                 0\n",
       "France                1\n",
       "South Korea           0\n",
       "Italy                 1\n",
       "Spain                 1\n",
       "Iran                  0\n",
       "Australia             0\n",
       "Brazil                1\n",
       "Name: HighRenew, dtype: int64"
      ]
     },
     "execution_count": 15,
     "metadata": {},
     "output_type": "execute_result"
    }
   ],
   "source": [
    "def answer_ten():\n",
    "    # YOUR CODE HERE\n",
    "    percentage_median = np.median(df['% Renewable'])\n",
    "    df['HighRenew'] = df.apply(lambda x: 0 if x['% Renewable'] < percentage_median else 1, axis=1)\n",
    "    \n",
    "    return df[\"HighRenew\"]\n",
    "\n",
    "answer_ten()"
   ]
  },
  {
   "cell_type": "markdown",
   "metadata": {},
   "source": [
    "## Question 11\n",
    "\n",
    "Use the following dictionary to group the Countries by Continent, then create a DataFrame that displays the sample size (the number of countries in each continent bin), and the sum, mean, and std deviation for the estimated population of each country.\n",
    "\n",
    "*This function should return a DataFrame with index named Continent `['Asia', 'Australia', 'Europe', 'North America', 'South America']` and columns `['size', 'sum', 'mean', 'std']`*"
   ]
  },
  {
   "cell_type": "code",
   "execution_count": 16,
   "metadata": {},
   "outputs": [],
   "source": [
    "ContinentDict  = {'China':'Asia', \n",
    "                  'United States':'North America', \n",
    "                  'Japan':'Asia', \n",
    "                  'United Kingdom':'Europe', \n",
    "                  'Russian Federation':'Europe', \n",
    "                  'Canada':'North America', \n",
    "                  'Germany':'Europe', \n",
    "                  'India':'Asia',\n",
    "                  'France':'Europe', \n",
    "                  'South Korea':'Asia', \n",
    "                  'Italy':'Europe', \n",
    "                  'Spain':'Europe', \n",
    "                  'Iran':'Asia',\n",
    "                  'Australia':'Australia', \n",
    "                  'Brazil':'South America'}"
   ]
  },
  {
   "cell_type": "code",
   "execution_count": 17,
   "metadata": {},
   "outputs": [
    {
     "data": {
      "text/html": [
       "<div>\n",
       "<style scoped>\n",
       "    .dataframe tbody tr th:only-of-type {\n",
       "        vertical-align: middle;\n",
       "    }\n",
       "\n",
       "    .dataframe tbody tr th {\n",
       "        vertical-align: top;\n",
       "    }\n",
       "\n",
       "    .dataframe thead th {\n",
       "        text-align: right;\n",
       "    }\n",
       "</style>\n",
       "<table border=\"1\" class=\"dataframe\">\n",
       "  <thead>\n",
       "    <tr style=\"text-align: right;\">\n",
       "      <th></th>\n",
       "      <th>size</th>\n",
       "      <th>sum</th>\n",
       "      <th>mean</th>\n",
       "      <th>std</th>\n",
       "    </tr>\n",
       "  </thead>\n",
       "  <tbody>\n",
       "    <tr>\n",
       "      <th>Asia</th>\n",
       "      <td>5.0</td>\n",
       "      <td>2.898666e+09</td>\n",
       "      <td>5.797333e+08</td>\n",
       "      <td>6.790979e+08</td>\n",
       "    </tr>\n",
       "    <tr>\n",
       "      <th>Australia</th>\n",
       "      <td>1.0</td>\n",
       "      <td>2.331602e+07</td>\n",
       "      <td>2.331602e+07</td>\n",
       "      <td>NaN</td>\n",
       "    </tr>\n",
       "    <tr>\n",
       "      <th>Europe</th>\n",
       "      <td>6.0</td>\n",
       "      <td>4.579297e+08</td>\n",
       "      <td>7.632161e+07</td>\n",
       "      <td>3.464767e+07</td>\n",
       "    </tr>\n",
       "    <tr>\n",
       "      <th>North America</th>\n",
       "      <td>2.0</td>\n",
       "      <td>3.528552e+08</td>\n",
       "      <td>1.764276e+08</td>\n",
       "      <td>1.996696e+08</td>\n",
       "    </tr>\n",
       "    <tr>\n",
       "      <th>South America</th>\n",
       "      <td>1.0</td>\n",
       "      <td>2.059153e+08</td>\n",
       "      <td>2.059153e+08</td>\n",
       "      <td>NaN</td>\n",
       "    </tr>\n",
       "  </tbody>\n",
       "</table>\n",
       "</div>"
      ],
      "text/plain": [
       "               size           sum          mean           std\n",
       "Asia            5.0  2.898666e+09  5.797333e+08  6.790979e+08\n",
       "Australia       1.0  2.331602e+07  2.331602e+07           NaN\n",
       "Europe          6.0  4.579297e+08  7.632161e+07  3.464767e+07\n",
       "North America   2.0  3.528552e+08  1.764276e+08  1.996696e+08\n",
       "South America   1.0  2.059153e+08  2.059153e+08           NaN"
      ]
     },
     "execution_count": 17,
     "metadata": {},
     "output_type": "execute_result"
    }
   ],
   "source": [
    "def answer_eleven():\n",
    "    # YOUR CODE HERE\n",
    "    \n",
    "    groups = pd.DataFrame(columns=['size', 'sum', 'mean', 'std'])\n",
    "    \n",
    "    for group, frame in df.groupby(ContinentDict):\n",
    "        groups.loc[group] = [len(frame), frame['Population'].sum(),frame['Population'].mean(),frame['Population'].std()]\n",
    "    \n",
    "    return groups\n",
    "    \n",
    "answer_eleven()"
   ]
  },
  {
   "cell_type": "markdown",
   "metadata": {},
   "source": [
    "## Question 12\n",
    "Cut % Renewable into 5 bins. Group Top15 by the Continent, as well as these new % Renewable bins. How many countries are in each of these groups?\n",
    "\n",
    "*This function should return a Series with a MultiIndex of `Continent`, then the bins for `% Renewable`. Do not include groups with no countries.*"
   ]
  },
  {
   "cell_type": "code",
   "execution_count": 18,
   "metadata": {},
   "outputs": [
    {
     "data": {
      "text/plain": [
       "Continent      Bins            \n",
       "Asia           (2.212, 15.753]     4\n",
       "               (15.753, 29.227]    1\n",
       "               (29.227, 42.701]    0\n",
       "               (42.701, 56.174]    0\n",
       "               (56.174, 69.648]    0\n",
       "Australia      (2.212, 15.753]     1\n",
       "               (15.753, 29.227]    0\n",
       "               (29.227, 42.701]    0\n",
       "               (42.701, 56.174]    0\n",
       "               (56.174, 69.648]    0\n",
       "Europe         (2.212, 15.753]     1\n",
       "               (15.753, 29.227]    3\n",
       "               (29.227, 42.701]    2\n",
       "               (42.701, 56.174]    0\n",
       "               (56.174, 69.648]    0\n",
       "North America  (2.212, 15.753]     1\n",
       "               (15.753, 29.227]    0\n",
       "               (29.227, 42.701]    0\n",
       "               (42.701, 56.174]    0\n",
       "               (56.174, 69.648]    1\n",
       "South America  (2.212, 15.753]     0\n",
       "               (15.753, 29.227]    0\n",
       "               (29.227, 42.701]    0\n",
       "               (42.701, 56.174]    0\n",
       "               (56.174, 69.648]    1\n",
       "dtype: int64"
      ]
     },
     "execution_count": 18,
     "metadata": {},
     "output_type": "execute_result"
    }
   ],
   "source": [
    "def answer_twelve():\n",
    "    # YOUR CODE HERE\n",
    "    \n",
    "    df12 = answer_one()\n",
    "    df12 = df12.reset_index()\n",
    "    df12['Continent'] = [ContinentDict[country] for country in df12['Country']]\n",
    "\n",
    "    df12['Bins'] = pd.cut(df12['% Renewable'],5)\n",
    "        \n",
    "    result = pd.Series(df12.groupby(['Continent','Bins']).size())\n",
    "    \n",
    "    return result\n",
    "\n",
    "answer_twelve()"
   ]
  },
  {
   "cell_type": "markdown",
   "metadata": {},
   "source": [
    "## Question 13\n",
    "Convert the Population Estimate series to a string with thousands separator (using commas). Use all significant digits (do not round the results).\n",
    "\n",
    "e.g. 12345678.90 -> 12,345,678.90\n",
    "\n",
    "*This function should return a series `PopEst` whose index is the country name and whose values are the population estimate string.*"
   ]
  },
  {
   "cell_type": "code",
   "execution_count": 19,
   "metadata": {},
   "outputs": [
    {
     "data": {
      "text/plain": [
       "Country\n",
       "China                 1,367,645,161.2903225\n",
       "United States          317,615,384.61538464\n",
       "Japan                  127,409,395.97315437\n",
       "United Kingdom         63,870,967.741935484\n",
       "Russian Federation            143,500,000.0\n",
       "Canada                  35,239,864.86486486\n",
       "Germany                 80,369,696.96969697\n",
       "India                 1,276,730,769.2307692\n",
       "France                  63,837,349.39759036\n",
       "South Korea            49,805,429.864253394\n",
       "Italy                  59,908,256.880733944\n",
       "Spain                    46,443,396.2264151\n",
       "Iran                    77,075,630.25210084\n",
       "Australia              23,316,017.316017315\n",
       "Brazil                 205,915,254.23728815\n",
       "Name: Population, dtype: object"
      ]
     },
     "execution_count": 19,
     "metadata": {},
     "output_type": "execute_result"
    }
   ],
   "source": [
    "def answer_thirteen():\n",
    "    # YOUR CODE HERE\n",
    "    df13 = answer_one()\n",
    "    df13['Population'] = (df13['Energy Supply']/df13['Energy Supply per Capita'])\n",
    "    df13 = df13.reset_index()\n",
    "\n",
    "    cols13 = ['Country','Population']\n",
    "    df13 = df13[cols13]\n",
    "    df13 = df13.set_index('Country')\n",
    "\n",
    "    PopEst = df13['Population'].apply(lambda x: '{:,}'.format(x))\n",
    "    return PopEst\n",
    "    \n",
    "answer_thirteen()"
   ]
  },
  {
   "cell_type": "markdown",
   "metadata": {},
   "source": [
    "## Optional\n",
    "Use the built in function `plot_optional()` to see an example visualization"
   ]
  },
  {
   "cell_type": "code",
   "execution_count": 20,
   "metadata": {},
   "outputs": [],
   "source": [
    "def plot_optional():\n",
    "    %matplotlib inline\n",
    "    Top15 = answer_one()\n",
    "    ax = Top15.plot(x='Rank', y='% Renewable', kind='scatter', \n",
    "                    c=['#e41a1c','#377eb8','#e41a1c','#4daf4a','#4daf4a','#377eb8','#4daf4a','#e41a1c',\n",
    "                       '#4daf4a','#e41a1c','#4daf4a','#4daf4a','#e41a1c','#dede00','#ff7f00'], \n",
    "                    xticks=range(1,16), s=6*Top15['2014']/10**10, alpha=.75, figsize=[16,6]);\n",
    "\n",
    "    for i, txt in enumerate(Top15.index):\n",
    "        ax.annotate(txt, [Top15.iloc[i]['Rank'], Top15.iloc[i]['% Renewable']], ha='center')\n",
    "\n",
    "    print(\"This is an example of a visualization that can be created to help understand the data. \\\n",
    "This is a bubble chart showing % Renewable vs. Rank. The size of the bubble corresponds to the countries' \\\n",
    "2014 GDP, and the color corresponds to the continent.\")"
   ]
  },
  {
   "cell_type": "code",
   "execution_count": 21,
   "metadata": {},
   "outputs": [
    {
     "name": "stdout",
     "output_type": "stream",
     "text": [
      "This is an example of a visualization that can be created to help understand the data. This is a bubble chart showing % Renewable vs. Rank. The size of the bubble corresponds to the countries' 2014 GDP, and the color corresponds to the continent.\n"
     ]
    },
    {
     "data": {
      "image/png": "[encoded data removed]",
      "text/plain": [
       "<Figure size 1600x600 with 1 Axes>"
      ]
     },
     "metadata": {},
     "output_type": "display_data"
    }
   ],
   "source": [
    "plot_optional()"
   ]
  },
  {
   "cell_type": "code",
   "execution_count": null,
   "metadata": {},
   "outputs": [],
   "source": []
  }
 ],
 "metadata": {
  "kernelspec": {
   "display_name": "python_prep",
   "language": "python",
   "name": "python_prep"
  },
  "language_info": {
   "codemirror_mode": {
    "name": "ipython",
    "version": 3
   },
   "file_extension": ".py",
   "mimetype": "text/x-python",
   "name": "python",
   "nbconvert_exporter": "python",
   "pygments_lexer": "ipython3",
   "version": "3.12.3"
  },
  "vscode": {
   "interpreter": {
    "hash": "e37262a048abd8621738cafecb2095b9e53550807265ef117f5fcc2a0c34ec0f"
   }
  }
 },
 "nbformat": 4,
 "nbformat_minor": 4
}
